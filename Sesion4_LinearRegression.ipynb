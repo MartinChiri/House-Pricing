{
  "nbformat": 4,
  "nbformat_minor": 0,
  "metadata": {
    "kernelspec": {
      "display_name": "Python 3",
      "language": "python",
      "name": "python3"
    },
    "language_info": {
      "codemirror_mode": {
        "name": "ipython",
        "version": 3
      },
      "file_extension": ".py",
      "mimetype": "text/x-python",
      "name": "python",
      "nbconvert_exporter": "python",
      "pygments_lexer": "ipython3",
      "version": "3.6.8"
    },
    "colab": {
      "name": "Sesion4_LinearRegression.ipynb",
      "provenance": [],
      "collapsed_sections": []
    }
  },
  "cells": [
    {
      "cell_type": "code",
      "metadata": {
        "id": "cC_oYPntHEym",
        "colab_type": "code",
        "colab": {}
      },
      "source": [
        "import pandas as pd\n",
        "train=pd.read_csv('https://raw.githubusercontent.com/javalillo13689/hackspace/master/train.csv')"
      ],
      "execution_count": 0,
      "outputs": []
    },
    {
      "cell_type": "markdown",
      "metadata": {
        "id": "vVoD4zSRICQ8",
        "colab_type": "text"
      },
      "source": [
        "# Presentacion del dataset Housing Price California"
      ]
    },
    {
      "cell_type": "code",
      "metadata": {
        "id": "Vji5CCLuGda0",
        "colab_type": "code",
        "outputId": "16f01df0-15c2-49ab-88ad-3d369cb18d00",
        "colab": {
          "base_uri": "https://localhost:8080/",
          "height": 34
        }
      },
      "source": [
        "train.shape"
      ],
      "execution_count": 21,
      "outputs": [
        {
          "output_type": "execute_result",
          "data": {
            "text/plain": [
              "(1460, 81)"
            ]
          },
          "metadata": {
            "tags": []
          },
          "execution_count": 21
        }
      ]
    },
    {
      "cell_type": "code",
      "metadata": {
        "_cell_guid": "3678529f-9d76-4853-88c5-4b2d230a85b6",
        "_execution_state": "idle",
        "_uuid": "3a32f51460a02fbe7a9122db55a740eb378dda97",
        "id": "HI3AVBp5Gda5",
        "colab_type": "code",
        "outputId": "b7c29537-a57b-40ed-c85a-c7094eef2d70",
        "colab": {
          "base_uri": "https://localhost:8080/",
          "height": 246
        }
      },
      "source": [
        "train.head(5)"
      ],
      "execution_count": 22,
      "outputs": [
        {
          "output_type": "execute_result",
          "data": {
            "text/html": [
              "<div>\n",
              "<style scoped>\n",
              "    .dataframe tbody tr th:only-of-type {\n",
              "        vertical-align: middle;\n",
              "    }\n",
              "\n",
              "    .dataframe tbody tr th {\n",
              "        vertical-align: top;\n",
              "    }\n",
              "\n",
              "    .dataframe thead th {\n",
              "        text-align: right;\n",
              "    }\n",
              "</style>\n",
              "<table border=\"1\" class=\"dataframe\">\n",
              "  <thead>\n",
              "    <tr style=\"text-align: right;\">\n",
              "      <th></th>\n",
              "      <th>Id</th>\n",
              "      <th>MSSubClass</th>\n",
              "      <th>MSZoning</th>\n",
              "      <th>LotFrontage</th>\n",
              "      <th>LotArea</th>\n",
              "      <th>Street</th>\n",
              "      <th>Alley</th>\n",
              "      <th>LotShape</th>\n",
              "      <th>LandContour</th>\n",
              "      <th>Utilities</th>\n",
              "      <th>LotConfig</th>\n",
              "      <th>LandSlope</th>\n",
              "      <th>Neighborhood</th>\n",
              "      <th>Condition1</th>\n",
              "      <th>Condition2</th>\n",
              "      <th>BldgType</th>\n",
              "      <th>HouseStyle</th>\n",
              "      <th>OverallQual</th>\n",
              "      <th>OverallCond</th>\n",
              "      <th>YearBuilt</th>\n",
              "      <th>YearRemodAdd</th>\n",
              "      <th>RoofStyle</th>\n",
              "      <th>RoofMatl</th>\n",
              "      <th>Exterior1st</th>\n",
              "      <th>Exterior2nd</th>\n",
              "      <th>MasVnrType</th>\n",
              "      <th>MasVnrArea</th>\n",
              "      <th>ExterQual</th>\n",
              "      <th>ExterCond</th>\n",
              "      <th>Foundation</th>\n",
              "      <th>BsmtQual</th>\n",
              "      <th>BsmtCond</th>\n",
              "      <th>BsmtExposure</th>\n",
              "      <th>BsmtFinType1</th>\n",
              "      <th>BsmtFinSF1</th>\n",
              "      <th>BsmtFinType2</th>\n",
              "      <th>BsmtFinSF2</th>\n",
              "      <th>BsmtUnfSF</th>\n",
              "      <th>TotalBsmtSF</th>\n",
              "      <th>Heating</th>\n",
              "      <th>...</th>\n",
              "      <th>CentralAir</th>\n",
              "      <th>Electrical</th>\n",
              "      <th>1stFlrSF</th>\n",
              "      <th>2ndFlrSF</th>\n",
              "      <th>LowQualFinSF</th>\n",
              "      <th>GrLivArea</th>\n",
              "      <th>BsmtFullBath</th>\n",
              "      <th>BsmtHalfBath</th>\n",
              "      <th>FullBath</th>\n",
              "      <th>HalfBath</th>\n",
              "      <th>BedroomAbvGr</th>\n",
              "      <th>KitchenAbvGr</th>\n",
              "      <th>KitchenQual</th>\n",
              "      <th>TotRmsAbvGrd</th>\n",
              "      <th>Functional</th>\n",
              "      <th>Fireplaces</th>\n",
              "      <th>FireplaceQu</th>\n",
              "      <th>GarageType</th>\n",
              "      <th>GarageYrBlt</th>\n",
              "      <th>GarageFinish</th>\n",
              "      <th>GarageCars</th>\n",
              "      <th>GarageArea</th>\n",
              "      <th>GarageQual</th>\n",
              "      <th>GarageCond</th>\n",
              "      <th>PavedDrive</th>\n",
              "      <th>WoodDeckSF</th>\n",
              "      <th>OpenPorchSF</th>\n",
              "      <th>EnclosedPorch</th>\n",
              "      <th>3SsnPorch</th>\n",
              "      <th>ScreenPorch</th>\n",
              "      <th>PoolArea</th>\n",
              "      <th>PoolQC</th>\n",
              "      <th>Fence</th>\n",
              "      <th>MiscFeature</th>\n",
              "      <th>MiscVal</th>\n",
              "      <th>MoSold</th>\n",
              "      <th>YrSold</th>\n",
              "      <th>SaleType</th>\n",
              "      <th>SaleCondition</th>\n",
              "      <th>SalePrice</th>\n",
              "    </tr>\n",
              "  </thead>\n",
              "  <tbody>\n",
              "    <tr>\n",
              "      <th>0</th>\n",
              "      <td>1</td>\n",
              "      <td>60</td>\n",
              "      <td>RL</td>\n",
              "      <td>65.0</td>\n",
              "      <td>8450</td>\n",
              "      <td>Pave</td>\n",
              "      <td>NaN</td>\n",
              "      <td>Reg</td>\n",
              "      <td>Lvl</td>\n",
              "      <td>AllPub</td>\n",
              "      <td>Inside</td>\n",
              "      <td>Gtl</td>\n",
              "      <td>CollgCr</td>\n",
              "      <td>Norm</td>\n",
              "      <td>Norm</td>\n",
              "      <td>1Fam</td>\n",
              "      <td>2Story</td>\n",
              "      <td>7</td>\n",
              "      <td>5</td>\n",
              "      <td>2003</td>\n",
              "      <td>2003</td>\n",
              "      <td>Gable</td>\n",
              "      <td>CompShg</td>\n",
              "      <td>VinylSd</td>\n",
              "      <td>VinylSd</td>\n",
              "      <td>BrkFace</td>\n",
              "      <td>196.0</td>\n",
              "      <td>Gd</td>\n",
              "      <td>TA</td>\n",
              "      <td>PConc</td>\n",
              "      <td>Gd</td>\n",
              "      <td>TA</td>\n",
              "      <td>No</td>\n",
              "      <td>GLQ</td>\n",
              "      <td>706</td>\n",
              "      <td>Unf</td>\n",
              "      <td>0</td>\n",
              "      <td>150</td>\n",
              "      <td>856</td>\n",
              "      <td>GasA</td>\n",
              "      <td>...</td>\n",
              "      <td>Y</td>\n",
              "      <td>SBrkr</td>\n",
              "      <td>856</td>\n",
              "      <td>854</td>\n",
              "      <td>0</td>\n",
              "      <td>1710</td>\n",
              "      <td>1</td>\n",
              "      <td>0</td>\n",
              "      <td>2</td>\n",
              "      <td>1</td>\n",
              "      <td>3</td>\n",
              "      <td>1</td>\n",
              "      <td>Gd</td>\n",
              "      <td>8</td>\n",
              "      <td>Typ</td>\n",
              "      <td>0</td>\n",
              "      <td>NaN</td>\n",
              "      <td>Attchd</td>\n",
              "      <td>2003.0</td>\n",
              "      <td>RFn</td>\n",
              "      <td>2</td>\n",
              "      <td>548</td>\n",
              "      <td>TA</td>\n",
              "      <td>TA</td>\n",
              "      <td>Y</td>\n",
              "      <td>0</td>\n",
              "      <td>61</td>\n",
              "      <td>0</td>\n",
              "      <td>0</td>\n",
              "      <td>0</td>\n",
              "      <td>0</td>\n",
              "      <td>NaN</td>\n",
              "      <td>NaN</td>\n",
              "      <td>NaN</td>\n",
              "      <td>0</td>\n",
              "      <td>2</td>\n",
              "      <td>2008</td>\n",
              "      <td>WD</td>\n",
              "      <td>Normal</td>\n",
              "      <td>208500</td>\n",
              "    </tr>\n",
              "    <tr>\n",
              "      <th>1</th>\n",
              "      <td>2</td>\n",
              "      <td>20</td>\n",
              "      <td>RL</td>\n",
              "      <td>80.0</td>\n",
              "      <td>9600</td>\n",
              "      <td>Pave</td>\n",
              "      <td>NaN</td>\n",
              "      <td>Reg</td>\n",
              "      <td>Lvl</td>\n",
              "      <td>AllPub</td>\n",
              "      <td>FR2</td>\n",
              "      <td>Gtl</td>\n",
              "      <td>Veenker</td>\n",
              "      <td>Feedr</td>\n",
              "      <td>Norm</td>\n",
              "      <td>1Fam</td>\n",
              "      <td>1Story</td>\n",
              "      <td>6</td>\n",
              "      <td>8</td>\n",
              "      <td>1976</td>\n",
              "      <td>1976</td>\n",
              "      <td>Gable</td>\n",
              "      <td>CompShg</td>\n",
              "      <td>MetalSd</td>\n",
              "      <td>MetalSd</td>\n",
              "      <td>None</td>\n",
              "      <td>0.0</td>\n",
              "      <td>TA</td>\n",
              "      <td>TA</td>\n",
              "      <td>CBlock</td>\n",
              "      <td>Gd</td>\n",
              "      <td>TA</td>\n",
              "      <td>Gd</td>\n",
              "      <td>ALQ</td>\n",
              "      <td>978</td>\n",
              "      <td>Unf</td>\n",
              "      <td>0</td>\n",
              "      <td>284</td>\n",
              "      <td>1262</td>\n",
              "      <td>GasA</td>\n",
              "      <td>...</td>\n",
              "      <td>Y</td>\n",
              "      <td>SBrkr</td>\n",
              "      <td>1262</td>\n",
              "      <td>0</td>\n",
              "      <td>0</td>\n",
              "      <td>1262</td>\n",
              "      <td>0</td>\n",
              "      <td>1</td>\n",
              "      <td>2</td>\n",
              "      <td>0</td>\n",
              "      <td>3</td>\n",
              "      <td>1</td>\n",
              "      <td>TA</td>\n",
              "      <td>6</td>\n",
              "      <td>Typ</td>\n",
              "      <td>1</td>\n",
              "      <td>TA</td>\n",
              "      <td>Attchd</td>\n",
              "      <td>1976.0</td>\n",
              "      <td>RFn</td>\n",
              "      <td>2</td>\n",
              "      <td>460</td>\n",
              "      <td>TA</td>\n",
              "      <td>TA</td>\n",
              "      <td>Y</td>\n",
              "      <td>298</td>\n",
              "      <td>0</td>\n",
              "      <td>0</td>\n",
              "      <td>0</td>\n",
              "      <td>0</td>\n",
              "      <td>0</td>\n",
              "      <td>NaN</td>\n",
              "      <td>NaN</td>\n",
              "      <td>NaN</td>\n",
              "      <td>0</td>\n",
              "      <td>5</td>\n",
              "      <td>2007</td>\n",
              "      <td>WD</td>\n",
              "      <td>Normal</td>\n",
              "      <td>181500</td>\n",
              "    </tr>\n",
              "    <tr>\n",
              "      <th>2</th>\n",
              "      <td>3</td>\n",
              "      <td>60</td>\n",
              "      <td>RL</td>\n",
              "      <td>68.0</td>\n",
              "      <td>11250</td>\n",
              "      <td>Pave</td>\n",
              "      <td>NaN</td>\n",
              "      <td>IR1</td>\n",
              "      <td>Lvl</td>\n",
              "      <td>AllPub</td>\n",
              "      <td>Inside</td>\n",
              "      <td>Gtl</td>\n",
              "      <td>CollgCr</td>\n",
              "      <td>Norm</td>\n",
              "      <td>Norm</td>\n",
              "      <td>1Fam</td>\n",
              "      <td>2Story</td>\n",
              "      <td>7</td>\n",
              "      <td>5</td>\n",
              "      <td>2001</td>\n",
              "      <td>2002</td>\n",
              "      <td>Gable</td>\n",
              "      <td>CompShg</td>\n",
              "      <td>VinylSd</td>\n",
              "      <td>VinylSd</td>\n",
              "      <td>BrkFace</td>\n",
              "      <td>162.0</td>\n",
              "      <td>Gd</td>\n",
              "      <td>TA</td>\n",
              "      <td>PConc</td>\n",
              "      <td>Gd</td>\n",
              "      <td>TA</td>\n",
              "      <td>Mn</td>\n",
              "      <td>GLQ</td>\n",
              "      <td>486</td>\n",
              "      <td>Unf</td>\n",
              "      <td>0</td>\n",
              "      <td>434</td>\n",
              "      <td>920</td>\n",
              "      <td>GasA</td>\n",
              "      <td>...</td>\n",
              "      <td>Y</td>\n",
              "      <td>SBrkr</td>\n",
              "      <td>920</td>\n",
              "      <td>866</td>\n",
              "      <td>0</td>\n",
              "      <td>1786</td>\n",
              "      <td>1</td>\n",
              "      <td>0</td>\n",
              "      <td>2</td>\n",
              "      <td>1</td>\n",
              "      <td>3</td>\n",
              "      <td>1</td>\n",
              "      <td>Gd</td>\n",
              "      <td>6</td>\n",
              "      <td>Typ</td>\n",
              "      <td>1</td>\n",
              "      <td>TA</td>\n",
              "      <td>Attchd</td>\n",
              "      <td>2001.0</td>\n",
              "      <td>RFn</td>\n",
              "      <td>2</td>\n",
              "      <td>608</td>\n",
              "      <td>TA</td>\n",
              "      <td>TA</td>\n",
              "      <td>Y</td>\n",
              "      <td>0</td>\n",
              "      <td>42</td>\n",
              "      <td>0</td>\n",
              "      <td>0</td>\n",
              "      <td>0</td>\n",
              "      <td>0</td>\n",
              "      <td>NaN</td>\n",
              "      <td>NaN</td>\n",
              "      <td>NaN</td>\n",
              "      <td>0</td>\n",
              "      <td>9</td>\n",
              "      <td>2008</td>\n",
              "      <td>WD</td>\n",
              "      <td>Normal</td>\n",
              "      <td>223500</td>\n",
              "    </tr>\n",
              "    <tr>\n",
              "      <th>3</th>\n",
              "      <td>4</td>\n",
              "      <td>70</td>\n",
              "      <td>RL</td>\n",
              "      <td>60.0</td>\n",
              "      <td>9550</td>\n",
              "      <td>Pave</td>\n",
              "      <td>NaN</td>\n",
              "      <td>IR1</td>\n",
              "      <td>Lvl</td>\n",
              "      <td>AllPub</td>\n",
              "      <td>Corner</td>\n",
              "      <td>Gtl</td>\n",
              "      <td>Crawfor</td>\n",
              "      <td>Norm</td>\n",
              "      <td>Norm</td>\n",
              "      <td>1Fam</td>\n",
              "      <td>2Story</td>\n",
              "      <td>7</td>\n",
              "      <td>5</td>\n",
              "      <td>1915</td>\n",
              "      <td>1970</td>\n",
              "      <td>Gable</td>\n",
              "      <td>CompShg</td>\n",
              "      <td>Wd Sdng</td>\n",
              "      <td>Wd Shng</td>\n",
              "      <td>None</td>\n",
              "      <td>0.0</td>\n",
              "      <td>TA</td>\n",
              "      <td>TA</td>\n",
              "      <td>BrkTil</td>\n",
              "      <td>TA</td>\n",
              "      <td>Gd</td>\n",
              "      <td>No</td>\n",
              "      <td>ALQ</td>\n",
              "      <td>216</td>\n",
              "      <td>Unf</td>\n",
              "      <td>0</td>\n",
              "      <td>540</td>\n",
              "      <td>756</td>\n",
              "      <td>GasA</td>\n",
              "      <td>...</td>\n",
              "      <td>Y</td>\n",
              "      <td>SBrkr</td>\n",
              "      <td>961</td>\n",
              "      <td>756</td>\n",
              "      <td>0</td>\n",
              "      <td>1717</td>\n",
              "      <td>1</td>\n",
              "      <td>0</td>\n",
              "      <td>1</td>\n",
              "      <td>0</td>\n",
              "      <td>3</td>\n",
              "      <td>1</td>\n",
              "      <td>Gd</td>\n",
              "      <td>7</td>\n",
              "      <td>Typ</td>\n",
              "      <td>1</td>\n",
              "      <td>Gd</td>\n",
              "      <td>Detchd</td>\n",
              "      <td>1998.0</td>\n",
              "      <td>Unf</td>\n",
              "      <td>3</td>\n",
              "      <td>642</td>\n",
              "      <td>TA</td>\n",
              "      <td>TA</td>\n",
              "      <td>Y</td>\n",
              "      <td>0</td>\n",
              "      <td>35</td>\n",
              "      <td>272</td>\n",
              "      <td>0</td>\n",
              "      <td>0</td>\n",
              "      <td>0</td>\n",
              "      <td>NaN</td>\n",
              "      <td>NaN</td>\n",
              "      <td>NaN</td>\n",
              "      <td>0</td>\n",
              "      <td>2</td>\n",
              "      <td>2006</td>\n",
              "      <td>WD</td>\n",
              "      <td>Abnorml</td>\n",
              "      <td>140000</td>\n",
              "    </tr>\n",
              "    <tr>\n",
              "      <th>4</th>\n",
              "      <td>5</td>\n",
              "      <td>60</td>\n",
              "      <td>RL</td>\n",
              "      <td>84.0</td>\n",
              "      <td>14260</td>\n",
              "      <td>Pave</td>\n",
              "      <td>NaN</td>\n",
              "      <td>IR1</td>\n",
              "      <td>Lvl</td>\n",
              "      <td>AllPub</td>\n",
              "      <td>FR2</td>\n",
              "      <td>Gtl</td>\n",
              "      <td>NoRidge</td>\n",
              "      <td>Norm</td>\n",
              "      <td>Norm</td>\n",
              "      <td>1Fam</td>\n",
              "      <td>2Story</td>\n",
              "      <td>8</td>\n",
              "      <td>5</td>\n",
              "      <td>2000</td>\n",
              "      <td>2000</td>\n",
              "      <td>Gable</td>\n",
              "      <td>CompShg</td>\n",
              "      <td>VinylSd</td>\n",
              "      <td>VinylSd</td>\n",
              "      <td>BrkFace</td>\n",
              "      <td>350.0</td>\n",
              "      <td>Gd</td>\n",
              "      <td>TA</td>\n",
              "      <td>PConc</td>\n",
              "      <td>Gd</td>\n",
              "      <td>TA</td>\n",
              "      <td>Av</td>\n",
              "      <td>GLQ</td>\n",
              "      <td>655</td>\n",
              "      <td>Unf</td>\n",
              "      <td>0</td>\n",
              "      <td>490</td>\n",
              "      <td>1145</td>\n",
              "      <td>GasA</td>\n",
              "      <td>...</td>\n",
              "      <td>Y</td>\n",
              "      <td>SBrkr</td>\n",
              "      <td>1145</td>\n",
              "      <td>1053</td>\n",
              "      <td>0</td>\n",
              "      <td>2198</td>\n",
              "      <td>1</td>\n",
              "      <td>0</td>\n",
              "      <td>2</td>\n",
              "      <td>1</td>\n",
              "      <td>4</td>\n",
              "      <td>1</td>\n",
              "      <td>Gd</td>\n",
              "      <td>9</td>\n",
              "      <td>Typ</td>\n",
              "      <td>1</td>\n",
              "      <td>TA</td>\n",
              "      <td>Attchd</td>\n",
              "      <td>2000.0</td>\n",
              "      <td>RFn</td>\n",
              "      <td>3</td>\n",
              "      <td>836</td>\n",
              "      <td>TA</td>\n",
              "      <td>TA</td>\n",
              "      <td>Y</td>\n",
              "      <td>192</td>\n",
              "      <td>84</td>\n",
              "      <td>0</td>\n",
              "      <td>0</td>\n",
              "      <td>0</td>\n",
              "      <td>0</td>\n",
              "      <td>NaN</td>\n",
              "      <td>NaN</td>\n",
              "      <td>NaN</td>\n",
              "      <td>0</td>\n",
              "      <td>12</td>\n",
              "      <td>2008</td>\n",
              "      <td>WD</td>\n",
              "      <td>Normal</td>\n",
              "      <td>250000</td>\n",
              "    </tr>\n",
              "  </tbody>\n",
              "</table>\n",
              "<p>5 rows × 81 columns</p>\n",
              "</div>"
            ],
            "text/plain": [
              "   Id  MSSubClass MSZoning  ...  SaleType  SaleCondition SalePrice\n",
              "0   1          60       RL  ...        WD         Normal    208500\n",
              "1   2          20       RL  ...        WD         Normal    181500\n",
              "2   3          60       RL  ...        WD         Normal    223500\n",
              "3   4          70       RL  ...        WD        Abnorml    140000\n",
              "4   5          60       RL  ...        WD         Normal    250000\n",
              "\n",
              "[5 rows x 81 columns]"
            ]
          },
          "metadata": {
            "tags": []
          },
          "execution_count": 22
        }
      ]
    },
    {
      "cell_type": "markdown",
      "metadata": {
        "_cell_guid": "7d5829c4-b2f1-4ef3-8b02-11f02eb7aabf",
        "_execution_state": "idle",
        "_uuid": "228cb602f1c7a47d3c5250514cab57f7e7bc75e5",
        "id": "b7zsBXZjGdbF",
        "colab_type": "text"
      },
      "source": [
        "# Procesamiento de Datos"
      ]
    },
    {
      "cell_type": "code",
      "metadata": {
        "id": "cBFGEzrwGqDH",
        "colab_type": "code",
        "colab": {}
      },
      "source": [
        "#importamos las librerias\n",
        "import numpy as np\n",
        "%matplotlib inline\n",
        "import matplotlib.pyplot as plt\n",
        "import seaborn as sns\n",
        "from scipy import stats\n",
        "from scipy.stats import norm, skew\n",
        "import missingno as ms"
      ],
      "execution_count": 0,
      "outputs": []
    },
    {
      "cell_type": "markdown",
      "metadata": {
        "_cell_guid": "30304b82-5846-4142-bc31-b629158fb040",
        "_execution_state": "idle",
        "_uuid": "edf186dc5169e450392ee8f809cc3de5d10d7dbd",
        "colab_type": "text",
        "id": "0QYAExx8uQWx"
      },
      "source": [
        "Se necesita eliminar la variable **Id** debido a que esta variable no es relevante para predecir el precio de una casa."
      ]
    },
    {
      "cell_type": "code",
      "metadata": {
        "_cell_guid": "b24451a1-fb8c-4094-ad0b-0940469d07fc",
        "_execution_state": "idle",
        "_uuid": "687813c270cbfdedccc7a9e4ec9fbb78a99d54ed",
        "id": "XoC36OB-GdbC",
        "colab_type": "code",
        "colab": {}
      },
      "source": [
        "train.drop(\"Id\", axis = 1, inplace = True)"
      ],
      "execution_count": 0,
      "outputs": []
    },
    {
      "cell_type": "markdown",
      "metadata": {
        "_cell_guid": "993f8fc0-1f5a-4432-80bc-6024b7bbc855",
        "_execution_state": "idle",
        "_uuid": "21bab04b0e0a451c912695d9238bf8304fc009d4",
        "id": "pzxgqAcVGdbH",
        "colab_type": "text"
      },
      "source": [
        "##OUTLIERS"
      ]
    },
    {
      "cell_type": "code",
      "metadata": {
        "_cell_guid": "637bd0fd-7508-41d1-b240-ea0e8598dddf",
        "_execution_state": "idle",
        "_uuid": "8903aa1a4a700aa2160edb3baf806f3800ae7d9a",
        "id": "X1P4IuDZGdbJ",
        "colab_type": "code",
        "outputId": "cc0e9018-d387-401d-cbbd-ab4335025327",
        "colab": {
          "base_uri": "https://localhost:8080/",
          "height": 301
        }
      },
      "source": [
        "sns.scatterplot(x = train['GrLivArea'], y = train['SalePrice'])"
      ],
      "execution_count": 25,
      "outputs": [
        {
          "output_type": "execute_result",
          "data": {
            "text/plain": [
              "<matplotlib.axes._subplots.AxesSubplot at 0x7fcb23189f60>"
            ]
          },
          "metadata": {
            "tags": []
          },
          "execution_count": 25
        },
        {
          "output_type": "display_data",
          "data": {
            "image/png": "[encoded data removed]",
            "text/plain": [
              "<Figure size 432x288 with 1 Axes>"
            ]
          },
          "metadata": {
            "tags": []
          }
        }
      ]
    },
    {
      "cell_type": "markdown",
      "metadata": {
        "_cell_guid": "30304b82-5846-4142-bc31-b629158fb040",
        "_execution_state": "idle",
        "_uuid": "edf186dc5169e450392ee8f809cc3de5d10d7dbd",
        "id": "6DgmVYysGdbM",
        "colab_type": "text"
      },
      "source": [
        "Se puede apreciar en la esquina inferior derecha dos datos que indican un **AreaHabitable** muy grande, y sin embargo registran un bajo precio. Estos valores se consideran outliers. Por ello procederemos a eliminarlos."
      ]
    },
    {
      "cell_type": "code",
      "metadata": {
        "_cell_guid": "6c5780b2-d4a8-42d9-b902-c6a23eef7d99",
        "_execution_state": "idle",
        "_uuid": "583bb417102d7bebb4aaf14bcb1aebcae86443bb",
        "id": "w91rK6KcGdbN",
        "colab_type": "code",
        "outputId": "6c8e92f2-14ee-492a-a7bd-9359231dd70a",
        "colab": {
          "base_uri": "https://localhost:8080/",
          "height": 301
        }
      },
      "source": [
        "#Eliminamos los outliers acorde a las variables del gráfico\n",
        "train = train.drop(train[(train['GrLivArea']>4000) & (train['SalePrice']<300000)].index)\n",
        "\n",
        "#Verificamos el gráfico nuevamente para confirmar que los outliers hayan sido eliminados\n",
        "sns.scatterplot(x = train['GrLivArea'], y = train['SalePrice'])"
      ],
      "execution_count": 26,
      "outputs": [
        {
          "output_type": "execute_result",
          "data": {
            "text/plain": [
              "<matplotlib.axes._subplots.AxesSubplot at 0x7fcb231675f8>"
            ]
          },
          "metadata": {
            "tags": []
          },
          "execution_count": 26
        },
        {
          "output_type": "display_data",
          "data": {
            "image/png": "[encoded data removed]",
            "text/plain": [
              "<Figure size 432x288 with 1 Axes>"
            ]
          },
          "metadata": {
            "tags": []
          }
        }
      ]
    },
    {
      "cell_type": "markdown",
      "metadata": {
        "_cell_guid": "e24be1ff-e186-4d0f-9ba1-64195c0eec4d",
        "_execution_state": "idle",
        "_uuid": "0f186c5806f14de1e9ea46ece78a4bed2a6830a7",
        "id": "bgQyRhVmGdbR",
        "colab_type": "text"
      },
      "source": [
        "Hay probabilidades de que otros valores atipicos existan en los datos de entrenamiento (si es que alli hubieran tambien outliers), sin embargo removerlos todos puede afectar negativamente nuestros modelos. Por ello vamos a permitir aquellos en los cuales los modelos son lo suficientemente robustos."
      ]
    },
    {
      "cell_type": "markdown",
      "metadata": {
        "_cell_guid": "f4dcb348-634e-4010-b0a1-27976a1d8353",
        "_execution_state": "idle",
        "_uuid": "886ad7c816f4c1fd9afda53b10990baf987e86d8",
        "id": "ORK_jNf6GdbT",
        "colab_type": "text"
      },
      "source": [
        "##Variable Objetivo"
      ]
    },
    {
      "cell_type": "markdown",
      "metadata": {
        "_cell_guid": "658f5b56-5830-486c-81a0-8514fb95e274",
        "_execution_state": "idle",
        "_uuid": "4b96a6a35983d1c765c11c929bcd32effd105b43",
        "id": "L8EslLgqGdbU",
        "colab_type": "text"
      },
      "source": [
        "**Precio** es la variable que vamos a predecir. Asi que vamos a hacer un poco de analisis en esta variable primero."
      ]
    },
    {
      "cell_type": "code",
      "metadata": {
        "_cell_guid": "a17ad845-6fca-4d47-8e44-7c4c44f0427d",
        "_execution_state": "idle",
        "_uuid": "be3b0157031685ed3dbc31a657ba712312691830",
        "id": "GeVtEKrQGdbV",
        "colab_type": "code",
        "outputId": "3dd3293b-0e02-43a9-8e49-bafeccd70359",
        "colab": {
          "base_uri": "https://localhost:8080/",
          "height": 312
        }
      },
      "source": [
        "sns.distplot(train['SalePrice'] , fit=norm)\n",
        "plt.ylabel('Frequency')\n",
        "plt.title('Distribución del Precio')"
      ],
      "execution_count": 27,
      "outputs": [
        {
          "output_type": "execute_result",
          "data": {
            "text/plain": [
              "Text(0.5, 1.0, 'Distribución del Precio')"
            ]
          },
          "metadata": {
            "tags": []
          },
          "execution_count": 27
        },
        {
          "output_type": "display_data",
          "data": {
            "image/png": "[encoded data removed]",
            "text/plain": [
              "<Figure size 432x288 with 1 Axes>"
            ]
          },
          "metadata": {
            "tags": []
          }
        }
      ]
    },
    {
      "cell_type": "markdown",
      "metadata": {
        "_cell_guid": "313a535c-86c4-4db5-96de-6f65bc4adc2f",
        "_execution_state": "idle",
        "_uuid": "1da2d9831ae6c94b3f6304185f02896a9ee40aa5",
        "id": "hP2olfzeGdbY",
        "colab_type": "text"
      },
      "source": [
        "Se puede apreciar que los datos de la variable objetivo están sesgados (en este caso, inclinado a la izquierda). Sin embargo, los modelos lineales que veremos en la presente clase optimizan su predición con datos distribuidos normalmente. Por ello vamos a transformar los datos de esta variable para aproximarlos a una distribución normal."
      ]
    },
    {
      "cell_type": "markdown",
      "metadata": {
        "_cell_guid": "8df72eef-77de-4a71-aa6a-4b91784a7232",
        "_execution_state": "idle",
        "_uuid": "421775277fdab4e5a05f74aa4ea92e712a743928",
        "id": "sJfYY-XoGdbZ",
        "colab_type": "text"
      },
      "source": [
        " **Log-transformación de la variable objetivo**"
      ]
    },
    {
      "cell_type": "code",
      "metadata": {
        "_cell_guid": "21b3a0ad-bd68-49aa-a3d7-40a30b3c59dc",
        "_execution_state": "idle",
        "_uuid": "719cf6a9dca56cc529e97af21816d291fa8bd8c0",
        "id": "o8GKaoGDGdba",
        "colab_type": "code",
        "outputId": "41c188e7-fefa-4561-f5e2-4a4aca313f70",
        "colab": {
          "base_uri": "https://localhost:8080/",
          "height": 312
        }
      },
      "source": [
        "#Utilizamos la función log1p de la librería numpy que aplica la función log(1+x) a todos los elementos de la variable Precio\n",
        "train[\"SalePrice\"] = np.log1p(train[\"SalePrice\"])\n",
        "\n",
        "#Dibujamos la distribución actualizada de la variable Precio\n",
        "sns.distplot(train['SalePrice'] , fit=norm);\n",
        "\n",
        "plt.ylabel('Frequency')\n",
        "plt.title('Distribución del Precio Real Ajustado')"
      ],
      "execution_count": 28,
      "outputs": [
        {
          "output_type": "execute_result",
          "data": {
            "text/plain": [
              "Text(0.5, 1.0, 'Distribución del Precio Real Ajustado')"
            ]
          },
          "metadata": {
            "tags": []
          },
          "execution_count": 28
        },
        {
          "output_type": "display_data",
          "data": {
            "image/png": "[encoded data removed]",
            "text/plain": [
              "<Figure size 432x288 with 1 Axes>"
            ]
          },
          "metadata": {
            "tags": []
          }
        }
      ]
    },
    {
      "cell_type": "markdown",
      "metadata": {
        "_cell_guid": "802df76d-0e0b-4868-ba16-91335568d2d7",
        "_execution_state": "idle",
        "_uuid": "827a86d65c6d176f4af55224b91b44a47966652d",
        "id": "1VyzKQNnGdbg",
        "colab_type": "text"
      },
      "source": [
        "# Ingeniería de Características ( I )"
      ]
    },
    {
      "cell_type": "markdown",
      "metadata": {
        "colab_type": "text",
        "id": "Gw0GVURhtsuV"
      },
      "source": [
        "Vamos a revisar el archivo \"DescripcionVariables.xlsx\" el cual contiene un diccionario sobre el significado de las variables predictoras"
      ]
    },
    {
      "cell_type": "code",
      "metadata": {
        "_cell_guid": "1bd3e9b9-2f42-4251-aadd-5ced84eb1a27",
        "_execution_state": "idle",
        "_uuid": "efc576211e4eed962f04cd94d901c667e6912528",
        "id": "RyGn197iGdbj",
        "colab_type": "code",
        "colab": {}
      },
      "source": [
        "y_train = train.SalePrice.values\n",
        "train.drop(['SalePrice'], axis=1, inplace=True)"
      ],
      "execution_count": 0,
      "outputs": []
    },
    {
      "cell_type": "markdown",
      "metadata": {
        "_cell_guid": "9ce95008-a3b9-43fa-bc4e-649ca0f43768",
        "_execution_state": "idle",
        "_uuid": "abe25f3032a0bed179d58d5911cb42d97b35841b",
        "id": "fOPq9vxBGdbn",
        "colab_type": "text"
      },
      "source": [
        "###Hallando nulos"
      ]
    },
    {
      "cell_type": "markdown",
      "metadata": {
        "id": "gIHa5UJtPkqi",
        "colab_type": "text"
      },
      "source": [
        "Procedemos a utilizar la función **ms.matrix** para visualizar de forma rápida los nulos del dataset."
      ]
    },
    {
      "cell_type": "code",
      "metadata": {
        "id": "STa4MNEpGdbs",
        "colab_type": "code",
        "outputId": "abb21ce0-7d26-4602-ec2d-601b690c07fa",
        "colab": {
          "base_uri": "https://localhost:8080/",
          "height": 631
        }
      },
      "source": [
        "ms.matrix(train)"
      ],
      "execution_count": 30,
      "outputs": [
        {
          "output_type": "execute_result",
          "data": {
            "text/plain": [
              "<matplotlib.axes._subplots.AxesSubplot at 0x7fcb22f64d30>"
            ]
          },
          "metadata": {
            "tags": []
          },
          "execution_count": 30
        },
        {
          "output_type": "display_data",
          "data": {
            "image/png": "[encoded data removed]",
            "text/plain": [
              "<Figure size 1800x720 with 2 Axes>"
            ]
          },
          "metadata": {
            "tags": []
          }
        }
      ]
    },
    {
      "cell_type": "markdown",
      "metadata": {
        "_cell_guid": "5d88502a-2484-45d7-a750-0d32075133dd",
        "_execution_state": "idle",
        "_uuid": "dbf28eddefa2c0825781a31cde823ac5ece5a1ee",
        "id": "hiyCxNY9Gdb9",
        "colab_type": "text"
      },
      "source": [
        "**Correlación de los Datos**\n"
      ]
    },
    {
      "cell_type": "code",
      "metadata": {
        "_cell_guid": "3fc115c7-33bb-456d-b3e5-4dd985bfbc9f",
        "_execution_state": "idle",
        "_uuid": "0f6b9912c752212f3f4bdca0b60f5fd01c12d2a0",
        "id": "W6jWQsuKGdcB",
        "colab_type": "code",
        "outputId": "9fc756a1-1fbc-4b0a-ebf3-56c5bf0d85ef",
        "colab": {
          "base_uri": "https://localhost:8080/",
          "height": 788
        }
      },
      "source": [
        "#Mapa de correlación para ver cómo las variables predictoras están correlacionadas con Precio\n",
        "corrmat = train.corr()\n",
        "plt.subplots(figsize=(15,12))\n",
        "sns.heatmap(corrmat, vmax=0.9, square=True)"
      ],
      "execution_count": 31,
      "outputs": [
        {
          "output_type": "execute_result",
          "data": {
            "text/plain": [
              "<matplotlib.axes._subplots.AxesSubplot at 0x7fcb22e7be10>"
            ]
          },
          "metadata": {
            "tags": []
          },
          "execution_count": 31
        },
        {
          "output_type": "display_data",
          "data": {
            "image/png": "[encoded data removed]",
            "text/plain": [
              "<Figure size 1080x864 with 2 Axes>"
            ]
          },
          "metadata": {
            "tags": []
          }
        }
      ]
    },
    {
      "cell_type": "markdown",
      "metadata": {
        "_cell_guid": "9ce95008-a3b9-43fa-bc4e-649ca0f43768",
        "_execution_state": "idle",
        "_uuid": "abe25f3032a0bed179d58d5911cb42d97b35841b",
        "colab_type": "text",
        "id": "pPWDpabuUgkD"
      },
      "source": [
        "###Completando valores nulos"
      ]
    },
    {
      "cell_type": "markdown",
      "metadata": {
        "_cell_guid": "e717ffdc-b536-4f6c-8008-e520043a5d3d",
        "_execution_state": "idle",
        "_uuid": "24d64c66f2a2329437743756194d21893ee6dd1f",
        "id": "ZCSuhAeVGdcN",
        "colab_type": "text"
      },
      "source": [
        "Vamos a completar secuencialmente los nulos para todas las características que cuenten con valores perdidos."
      ]
    },
    {
      "cell_type": "markdown",
      "metadata": {
        "_cell_guid": "6f7d94ef-5ffb-4e1b-b1a2-a917cce3f357",
        "_execution_state": "idle",
        "_uuid": "d6d054aff0098e4e602ef618e0a4d3706d71dd66",
        "id": "Qof7LGtYGdcP",
        "colab_type": "text"
      },
      "source": [
        "- **Piscina** : None hace referencia a que la casa no cuente con piscina."
      ]
    },
    {
      "cell_type": "code",
      "metadata": {
        "_cell_guid": "ca8a04eb-f42b-4c26-a690-bb98c95c6118",
        "_execution_state": "idle",
        "_uuid": "1d94b062f7683d711d479e48530009040185fd4c",
        "id": "IdVWT_5QGdcQ",
        "colab_type": "code",
        "colab": {}
      },
      "source": [
        "train[\"PoolQC\"] = train[\"PoolQC\"].fillna(\"None\")"
      ],
      "execution_count": 0,
      "outputs": []
    },
    {
      "cell_type": "markdown",
      "metadata": {
        "_cell_guid": "ea3aecb9-b2e8-4cdc-853d-999f8e2f789c",
        "_execution_state": "idle",
        "_uuid": "0516efe507d7176591f6af3d503312db5038949a",
        "id": "pxxH0ALZGdcV",
        "colab_type": "text"
      },
      "source": [
        "- **Miscelaneo** : None hace referencia a que la casa no cuenta con características especiales que califiquen como Misceláneo\n"
      ]
    },
    {
      "cell_type": "code",
      "metadata": {
        "_cell_guid": "689863b8-4e4e-45d7-9972-8894e8defbe2",
        "_execution_state": "idle",
        "_uuid": "c311993a26d66d66ce82584a3e00d7ed56a3ea5a",
        "id": "GzGZoBGZGdcW",
        "colab_type": "code",
        "colab": {}
      },
      "source": [
        "train[\"MiscFeature\"] = train[\"MiscFeature\"].fillna(\"None\")"
      ],
      "execution_count": 0,
      "outputs": []
    },
    {
      "cell_type": "markdown",
      "metadata": {
        "_cell_guid": "d467b9e0-0793-41e5-aaa1-d1686946ba9f",
        "_execution_state": "idle",
        "_uuid": "44cfbd9eecce5e4f2bc91a72ed095270e6010f57",
        "id": "Zj3JCHG0GdcZ",
        "colab_type": "text"
      },
      "source": [
        "- **Callejon** : None hace referencia a que la casa no cuenta con acceso a callejón."
      ]
    },
    {
      "cell_type": "code",
      "metadata": {
        "_cell_guid": "0f822e30-09f3-45f8-b09e-0ffed4ff985c",
        "_execution_state": "idle",
        "_uuid": "35709caf5cb2b0220cd9043f76462a116de15059",
        "id": "Y2aADxlWGdcb",
        "colab_type": "code",
        "colab": {}
      },
      "source": [
        "train[\"Alley\"] = train[\"Alley\"].fillna(\"None\")"
      ],
      "execution_count": 0,
      "outputs": []
    },
    {
      "cell_type": "markdown",
      "metadata": {
        "_cell_guid": "0bab3349-eddb-4977-acd5-8dad4553ff7f",
        "_execution_state": "idle",
        "_uuid": "3265fc176140dbf1b641e18f2d57b91554c85771",
        "id": "0oXwp-_kGdcf",
        "colab_type": "text"
      },
      "source": [
        "- **Cerca** : None hace referencia a que la casa no cuenta con cerca"
      ]
    },
    {
      "cell_type": "code",
      "metadata": {
        "_cell_guid": "c0d6e4f4-df14-467f-bab2-86bfd0493a35",
        "_execution_state": "idle",
        "_uuid": "6d9d6998298a7fea5677f0916bcc9f33dc99e231",
        "id": "Rgva-6LdGdcg",
        "colab_type": "code",
        "colab": {}
      },
      "source": [
        "train[\"Fence\"] = train[\"Fence\"].fillna(\"None\")"
      ],
      "execution_count": 0,
      "outputs": []
    },
    {
      "cell_type": "markdown",
      "metadata": {
        "_cell_guid": "49747765-81f1-4b23-ad63-534c7fe48b7a",
        "_execution_state": "idle",
        "_uuid": "4869889d4b2b118bc6dcef239cbc27546a7b445e",
        "id": "9d05yOqoGdcl",
        "colab_type": "text"
      },
      "source": [
        "- **ChimeneaCalidad** : None hace referencia a que la casa no cuenta con chimenea"
      ]
    },
    {
      "cell_type": "code",
      "metadata": {
        "_cell_guid": "22b88c5b-6419-424f-9805-2c2b11e85dca",
        "_execution_state": "idle",
        "_uuid": "fb8cdb59e4ecba1f7ec78eb3b34c7209c34b1c86",
        "id": "fsJQWu_tGdcm",
        "colab_type": "code",
        "colab": {}
      },
      "source": [
        "train[\"FireplaceQu\"] = train[\"FireplaceQu\"].fillna(\"None\")"
      ],
      "execution_count": 0,
      "outputs": []
    },
    {
      "cell_type": "markdown",
      "metadata": {
        "_cell_guid": "357994d1-974a-49ee-98e4-a19bc524fcb6",
        "_execution_state": "idle",
        "_uuid": "2b00af603b7dbc9114e62c421b2b886154d31959",
        "id": "1ma973LbGdcp",
        "colab_type": "text"
      },
      "source": [
        "- **Fachada** : Los valores perdidos de la **Fachada** los completaremos con la mediana obtenida al agrupar las casas por vecindario"
      ]
    },
    {
      "cell_type": "code",
      "metadata": {
        "_cell_guid": "b8cd4872-67c6-4c82-a1a3-807d08efb658",
        "_execution_state": "idle",
        "_uuid": "56c268a7217e85301d2847ceeca410d62e781b89",
        "id": "BPX4A1-EGdcp",
        "colab_type": "code",
        "colab": {}
      },
      "source": [
        "train[\"LotFrontage\"] = train.groupby(\"Neighborhood\")[\"LotFrontage\"].transform(lambda x: x.fillna(x.median()))"
      ],
      "execution_count": 0,
      "outputs": []
    },
    {
      "cell_type": "markdown",
      "metadata": {
        "_cell_guid": "357994d1-974a-49ee-98e4-a19bc524fcb6",
        "_execution_state": "idle",
        "_uuid": "2b00af603b7dbc9114e62c421b2b886154d31959",
        "colab_type": "text",
        "id": "GS1Te8ZNSnzh"
      },
      "source": [
        "- **GarajeTipo,GarajeExteriores,GarajeCalidad,GarajeCondición** : Los valores perdidos serán reemplazados por None para registrar que no cuentan con Garaje ni ninguna de sus características"
      ]
    },
    {
      "cell_type": "code",
      "metadata": {
        "_cell_guid": "f264979e-f5e2-4aae-b313-7468570c0294",
        "_execution_state": "idle",
        "_uuid": "d556da5418394ed50d3c14bd02668714cee0fb4a",
        "id": "EQ_VD_crGdcu",
        "colab_type": "code",
        "colab": {}
      },
      "source": [
        "for col in ('GarageType', 'GarageFinish', 'GarageQual', 'GarageCond'):\n",
        "    train[col] = train[col].fillna('None')"
      ],
      "execution_count": 0,
      "outputs": []
    },
    {
      "cell_type": "markdown",
      "metadata": {
        "_cell_guid": "92173e82-fd12-4fa0-b7dd-f66fb7b0be3b",
        "_execution_state": "idle",
        "_uuid": "b38ea3ec1c4b8fa4b31e8f86f378798319c05a71",
        "id": "g9HBii5TGdc0",
        "colab_type": "text"
      },
      "source": [
        "- **GarajeAñosConstruido, GarajeArea y GarajeCarros** : Los valores perdidos los reemplazamos por cero (0) debido a que la casa no registró garaje.\n"
      ]
    },
    {
      "cell_type": "code",
      "metadata": {
        "_cell_guid": "ada7acfa-8bc3-4d52-9f42-28a78cefc950",
        "_execution_state": "idle",
        "_uuid": "2726cce29df2a2621c54c4c8a06eb570a7191552",
        "id": "DKDzf39FGdc3",
        "colab_type": "code",
        "colab": {}
      },
      "source": [
        "for col in ('GarageYrBlt', 'GarageArea', 'GarageCars'):\n",
        "    train[col] = train[col].fillna(0)"
      ],
      "execution_count": 0,
      "outputs": []
    },
    {
      "cell_type": "markdown",
      "metadata": {
        "_cell_guid": "b9f955c5-4e03-4835-8df7-1284120453ff",
        "_execution_state": "idle",
        "_uuid": "1729c36d95461d03679eb95e18eaac3d37aeb076",
        "id": "M9O0I3aeGdc6",
        "colab_type": "text"
      },
      "source": [
        "- **SotanoAreaFinalizadaTipo1, SotanoAreaFinalizadaTipo2,SotanoAreaNoFinalizada, TotalAreaSotano, SotanoBañosCompletos y SotanosBañosSemicimpletos** :  Los valores perdidos los reemplazamos por cero (0) debido a que la casa no registró sótanos"
      ]
    },
    {
      "cell_type": "code",
      "metadata": {
        "_cell_guid": "dd9e7ef7-3cee-437a-9a33-20987e238425",
        "_execution_state": "idle",
        "_uuid": "3008a6bd07ed883ff92a83ebe390940a24010fcb",
        "id": "XxiKWcanGdc7",
        "colab_type": "code",
        "colab": {}
      },
      "source": [
        "for col in ('BsmtFinSF1', 'BsmtFinSF2', 'BsmtUnfSF','TotalBsmtSF', 'BsmtFullBath', 'BsmtHalfBath'):\n",
        "    train[col] = train[col].fillna(0)"
      ],
      "execution_count": 0,
      "outputs": []
    },
    {
      "cell_type": "markdown",
      "metadata": {
        "_cell_guid": "441b397e-c527-4bd5-8d3c-df6aeba72192",
        "_execution_state": "idle",
        "_uuid": "d4ed0fcea9f8bb309118ba2fb703431e386c6cbd",
        "id": "8pri-QPeGdc-",
        "colab_type": "text"
      },
      "source": [
        "- **SotanoCalidad, SotanoCondicion, SotanoExteriores, SotanoFinalizadoTipo1 and SotanoFinalizadoTipo2** : Los valores perdidos serán reemplazados por None para registrar que no cuentan con Sótano ni ninguna de sus características\n"
      ]
    },
    {
      "cell_type": "code",
      "metadata": {
        "_cell_guid": "6d7aa4f6-41b9-4f27-acb0-8af6aca2c8ff",
        "_execution_state": "idle",
        "_uuid": "ee281d3c691a50795e93bb797603c697d320b286",
        "id": "q7jwZrn5Gdc-",
        "colab_type": "code",
        "colab": {}
      },
      "source": [
        "for col in ('BsmtQual', 'BsmtCond', 'BsmtExposure', 'BsmtFinType1', 'BsmtFinType2'):\n",
        "    train[col] = train[col].fillna('None')"
      ],
      "execution_count": 0,
      "outputs": []
    },
    {
      "cell_type": "markdown",
      "metadata": {
        "_cell_guid": "e7f2515f-8438-4075-9d22-0b37c1a2ef01",
        "_execution_state": "idle",
        "_uuid": "556165bc959cd6ff2354cb774341ac947d052f6a",
        "id": "R0aOb4elGddB",
        "colab_type": "text"
      },
      "source": [
        "- **ChapaAlbañileríaArea y ChapaAlbañileríaTipo** : Los valores perdidos serán reemplazados por cero (0) y None respectivamente para registrar que la casa no cuenta con Chapa de Albañilería\n"
      ]
    },
    {
      "cell_type": "code",
      "metadata": {
        "_cell_guid": "63a3a030-482f-4292-a887-16880f7a2882",
        "_execution_state": "idle",
        "_uuid": "800ff604bb70023baf1d403b53b674b765d9047c",
        "id": "sBaO-Lc4GddD",
        "colab_type": "code",
        "colab": {}
      },
      "source": [
        "train[\"MasVnrType\"] = train[\"MasVnrType\"].fillna(\"None\")\n",
        "train[\"MasVnrArea\"] = train[\"MasVnrArea\"].fillna(0)"
      ],
      "execution_count": 0,
      "outputs": []
    },
    {
      "cell_type": "markdown",
      "metadata": {
        "_cell_guid": "f2f7f337-de24-44ec-93a6-09428ec9a252",
        "_execution_state": "idle",
        "_uuid": "ded1f7ea0443654bd033eeed1361056f820a925b",
        "id": "NG8RpYlZGddH",
        "colab_type": "text"
      },
      "source": [
        "- **ClaseZona** :  Los valores perdidos serán reemplazados por la moda, es decir la característica más frecuente de la ClaseZona ('RL')"
      ]
    },
    {
      "cell_type": "code",
      "metadata": {
        "_cell_guid": "0e4f28b5-784c-4369-92f4-bda15fa55172",
        "_execution_state": "idle",
        "_uuid": "ca93ce9b34c853c1bb11d837eaff6c2986234757",
        "id": "KIw-VzuEGddI",
        "colab_type": "code",
        "colab": {}
      },
      "source": [
        "train['MSZoning'] = train['MSZoning'].fillna(train['MSZoning'].mode()[0])"
      ],
      "execution_count": 0,
      "outputs": []
    },
    {
      "cell_type": "markdown",
      "metadata": {
        "_cell_guid": "99310a4b-9dbf-4273-81b5-94bf0adf338c",
        "_execution_state": "idle",
        "_uuid": "de39073aef3db7d13894fa82285eff803d6e5c1b",
        "id": "jcPrXM1eGddL",
        "colab_type": "text"
      },
      "source": [
        "- **Utilities** : Esta variable está completamente llena con un **único valor para todos los registros** por ello no vamos a considerarla para la predicción.\n"
      ]
    },
    {
      "cell_type": "code",
      "metadata": {
        "_cell_guid": "facec65d-945f-4be1-86c8-1be011cc2bd0",
        "_execution_state": "idle",
        "_uuid": "de8ee2aca9eb3eeed7442cd9d12843cc64746708",
        "id": "ScZvrCeEGddO",
        "colab_type": "code",
        "colab": {}
      },
      "source": [
        "train = train.drop(['Utilities'], axis=1)"
      ],
      "execution_count": 0,
      "outputs": []
    },
    {
      "cell_type": "markdown",
      "metadata": {
        "_cell_guid": "c6aabfcd-4a1d-4845-88a1-b2f5cb7d8901",
        "_execution_state": "idle",
        "_uuid": "3450d048089ba8ff98807c6ae3b745b0a34165f9",
        "id": "qTTVkzI9GddS",
        "colab_type": "text"
      },
      "source": [
        "- **TipoDeclaracionImpuestos** : Asumimos para los datos perdidos la cateogría **Typ** (típica) para la forma de declaración de impuestos"
      ]
    },
    {
      "cell_type": "code",
      "metadata": {
        "_cell_guid": "c968aa5e-c34f-442e-9388-69e074a2c84e",
        "_execution_state": "idle",
        "_uuid": "e2d331e991fa868320b5d089f61c58b54ce7cb37",
        "id": "DqGT4Yr-GddU",
        "colab_type": "code",
        "colab": {}
      },
      "source": [
        "train[\"Functional\"] = train[\"Functional\"].fillna(\"Typ\")"
      ],
      "execution_count": 0,
      "outputs": []
    },
    {
      "cell_type": "markdown",
      "metadata": {
        "_cell_guid": "4f2bad4d-8db8-4ac3-8991-ffa2c775a72d",
        "_execution_state": "idle",
        "_uuid": "c122f5b5596bc4ce615c6b620b7e1824a54a47b8",
        "id": "rSpJzdDrGddd",
        "colab_type": "text"
      },
      "source": [
        "- **SistemaElectrico** : Solo presenta 1 dato perdido así que vamos a reemplazarlo por la moda\n"
      ]
    },
    {
      "cell_type": "code",
      "metadata": {
        "_cell_guid": "d93eab84-7759-4201-bd7d-d450399478f7",
        "_execution_state": "idle",
        "_uuid": "d31761ee8878ce4143cf21adde149cd622c5a039",
        "id": "E4T4pZv7Gdde",
        "colab_type": "code",
        "colab": {}
      },
      "source": [
        "train['Electrical'] = train['Electrical'].fillna(train['Electrical'].mode()[0])"
      ],
      "execution_count": 0,
      "outputs": []
    },
    {
      "cell_type": "markdown",
      "metadata": {
        "_cell_guid": "3d089b8e-3392-4067-a5a1-4f6d4e3e8fb5",
        "_execution_state": "idle",
        "_uuid": "8e0fd54a802f1eddfec0aa4104412c19e1c266d0",
        "id": "v0deqoM9Gddh",
        "colab_type": "text"
      },
      "source": [
        "- **CocinaCalidad**:  Solo presenta 1 dato perdido así que vamos a reemplazarlo por la moda\n"
      ]
    },
    {
      "cell_type": "code",
      "metadata": {
        "_cell_guid": "9f68e47a-5b50-436f-9e31-ff65a1cb1687",
        "_execution_state": "idle",
        "_uuid": "23071ddb69b67b1d742bb15d260421d57aed5583",
        "id": "8YcoCGioGddi",
        "colab_type": "code",
        "colab": {}
      },
      "source": [
        "train['KitchenQual'] = train['KitchenQual'].fillna(train['KitchenQual'].mode()[0])"
      ],
      "execution_count": 0,
      "outputs": []
    },
    {
      "cell_type": "markdown",
      "metadata": {
        "_cell_guid": "e32aec7d-2841-4bfc-a6d2-d181000af4b8",
        "_execution_state": "idle",
        "_uuid": "e8aca612daf293e7228eed9647370036d003e0fb",
        "id": "941HagzpGddp",
        "colab_type": "text"
      },
      "source": [
        "- **Exteriores1erPiso and Exteriores2doPiso** : Ambas variables solo cuentan con 1 dato perdido así que vamos a reemplazarlo por la moda"
      ]
    },
    {
      "cell_type": "code",
      "metadata": {
        "_cell_guid": "85903feb-7fdb-4911-9a6a-f29629bbf308",
        "_execution_state": "idle",
        "_uuid": "6375e9c7c145e0f2832cbe03addbce3d90cb44c4",
        "id": "sk8udecUGdds",
        "colab_type": "code",
        "colab": {}
      },
      "source": [
        "train['Exterior1st'] = train['Exterior1st'].fillna(train['Exterior1st'].mode()[0])\n",
        "train['Exterior2nd'] = train['Exterior2nd'].fillna(train['Exterior2nd'].mode()[0])"
      ],
      "execution_count": 0,
      "outputs": []
    },
    {
      "cell_type": "markdown",
      "metadata": {
        "_cell_guid": "b87d629d-6820-4f3e-80f3-efc16436b982",
        "_execution_state": "idle",
        "_uuid": "67f41f0ad648d536d70e2ccb617a4b495fb7f782",
        "id": "vs6v58weGddu",
        "colab_type": "text"
      },
      "source": [
        "- **TipoVenta** : Los valores perdidos serán reemplazados por la moda, es decir la característica más frecuente del tipo de venta"
      ]
    },
    {
      "cell_type": "code",
      "metadata": {
        "_cell_guid": "aaa407ac-ad4a-4313-8530-ac96826be6e5",
        "_execution_state": "idle",
        "_uuid": "06c104efedaf57a4052c8f61c502cb6313e0beea",
        "id": "vz8eRMKvGddx",
        "colab_type": "code",
        "colab": {}
      },
      "source": [
        "train['SaleType'] = train['SaleType'].fillna(train['SaleType'].mode()[0])"
      ],
      "execution_count": 0,
      "outputs": []
    },
    {
      "cell_type": "markdown",
      "metadata": {
        "_cell_guid": "8ddca94e-7cfa-4f25-9333-29e013c9c30d",
        "_execution_state": "idle",
        "_uuid": "8a3a35f5dc00732929143480a8a0b34a2a502c27",
        "id": "XOJGzeo2Gdd5",
        "colab_type": "text"
      },
      "source": [
        "- **SubClase** : None hace referencia a que la casa no registró el tipo de construcción\n"
      ]
    },
    {
      "cell_type": "code",
      "metadata": {
        "_cell_guid": "23dedd0c-7d5e-4870-8588-8bc4890f627b",
        "_execution_state": "idle",
        "_uuid": "9608a2eada6013e7f14e9341862cca0dca4621e9",
        "id": "wu0shwJqGdd6",
        "colab_type": "code",
        "colab": {}
      },
      "source": [
        "train['MSSubClass'] = train['MSSubClass'].fillna(\"None\")"
      ],
      "execution_count": 0,
      "outputs": []
    },
    {
      "cell_type": "markdown",
      "metadata": {
        "_cell_guid": "9193270b-8e7b-4a24-b769-d6eb661a1ae7",
        "_execution_state": "idle",
        "_uuid": "465570fcce8944ee31b1709ec6954d03cbf32ff8",
        "id": "RJByttpNGdd8",
        "colab_type": "text"
      },
      "source": [
        "Procedemos a verificar si queda algún dato nulo en el dataset:"
      ]
    },
    {
      "cell_type": "code",
      "metadata": {
        "id": "j4CI_WbYGdeB",
        "colab_type": "code",
        "outputId": "5ffa97ed-1c00-4fbd-c587-32e82eb63363",
        "colab": {
          "base_uri": "https://localhost:8080/",
          "height": 631
        }
      },
      "source": [
        "ms.matrix(train)"
      ],
      "execution_count": 53,
      "outputs": [
        {
          "output_type": "execute_result",
          "data": {
            "text/plain": [
              "<matplotlib.axes._subplots.AxesSubplot at 0x7fcb201b5f28>"
            ]
          },
          "metadata": {
            "tags": []
          },
          "execution_count": 53
        },
        {
          "output_type": "display_data",
          "data": {
            "image/png": "[encoded data removed]",
            "text/plain": [
              "<Figure size 1800x720 with 2 Axes>"
            ]
          },
          "metadata": {
            "tags": []
          }
        }
      ]
    },
    {
      "cell_type": "markdown",
      "metadata": {
        "_cell_guid": "7996debf-c724-4365-9d63-f6104bae6140",
        "_execution_state": "idle",
        "_uuid": "915505b9c21b4dd84cc466660a68fb0d6b84cfae",
        "id": "rO8p2eJ5GdeG",
        "colab_type": "text"
      },
      "source": [
        "# Ingeniería de Características ( II )"
      ]
    },
    {
      "cell_type": "markdown",
      "metadata": {
        "_cell_guid": "0d5076fa-b4ab-4787-bebb-8fd445b8815a",
        "_execution_state": "idle",
        "_uuid": "1cfcb671a97068569efb4e7855da91aa30c5bbde",
        "id": "q4XVIARxGdeI",
        "colab_type": "text"
      },
      "source": [
        "**Transformando algunas variables númericas que realmente son categóricas**"
      ]
    },
    {
      "cell_type": "code",
      "metadata": {
        "_cell_guid": "a52dc2f9-ca02-4024-987a-165ce630b356",
        "_execution_state": "idle",
        "_uuid": "cc7557817a4442e799e4e4c84dd1efd8bd08867a",
        "id": "uAKzmMtiGdeN",
        "colab_type": "code",
        "colab": {}
      },
      "source": [
        "#Cambiar las variables Año y Mes de venta de la casa a tipo letra (str)\n",
        "train['YrSold'] = train['YrSold'].astype(str)\n",
        "train['MoSold'] = train['MoSold'].astype(str)"
      ],
      "execution_count": 0,
      "outputs": []
    },
    {
      "cell_type": "markdown",
      "metadata": {
        "_cell_guid": "a4879ef7-ab0d-4955-bc48-7ebcfa04b3bd",
        "_execution_state": "idle",
        "_uuid": "9976d6288bc183d443fbccc2bde439d5bc3a87b1",
        "id": "FLB08LSNGdec",
        "colab_type": "text"
      },
      "source": [
        "**Añadimos una variable importante**"
      ]
    },
    {
      "cell_type": "markdown",
      "metadata": {
        "_cell_guid": "b9486529-a3d2-443d-8a90-6bfbc406583b",
        "_execution_state": "idle",
        "_uuid": "ab22a33cf69e8092b3c4ae0a80b1f5f31b67edbc",
        "id": "3aRwk-bWGded",
        "colab_type": "text"
      },
      "source": [
        "Debido a que el área total es importante para predecir el precio de la casa, sumamos las tres variables **TotalSótano, 1erPiso, 2doPiso**"
      ]
    },
    {
      "cell_type": "code",
      "metadata": {
        "_cell_guid": "fc1a8f1a-f003-4538-8e60-d819f46362a3",
        "_execution_state": "idle",
        "_uuid": "208f8d22188786227fff4a978dc3b11b4e1ffd90",
        "id": "DHT7jgU5Gded",
        "colab_type": "code",
        "colab": {}
      },
      "source": [
        "#Añadiendo tamaño total del area\n",
        "train['TotalArea'] = train['TotalBsmtSF'] + train['1stFlrSF'] + train['2ndFlrSF']"
      ],
      "execution_count": 0,
      "outputs": []
    },
    {
      "cell_type": "markdown",
      "metadata": {
        "_cell_guid": "91c73aad-82d1-4301-b540-b2f69dc13902",
        "_execution_state": "idle",
        "_uuid": "aa36d6e3253e354b46d9c9c6f2e8a4089c76be16",
        "id": "NWATCwEtGdeh",
        "colab_type": "text"
      },
      "source": [
        "**Detectamos el sesgo de las variables predictoras** - Solo aquellas con data numérica"
      ]
    },
    {
      "cell_type": "code",
      "metadata": {
        "_cell_guid": "c5972a73-7e86-4164-a9d6-58432dae1933",
        "_execution_state": "idle",
        "_uuid": "53c471c7008c66590f257e70866f8a3037813f13",
        "id": "6KsCqWuMGdeh",
        "colab_type": "code",
        "outputId": "4368f975-6060-44f4-e510-cb48175b533c",
        "colab": {
          "base_uri": "https://localhost:8080/",
          "height": 401
        }
      },
      "source": [
        "#Filtramos aquellas variables que tengan datos diferentes al tipo object, es decir numéricas\n",
        "numeric_feats = train.dtypes[train.dtypes != \"object\"].index\n",
        "\n",
        "#Aplicamos la función skew a las variables filtradas y mostramos el resultado ordenando de forma ascendente\n",
        "skewed_feats = train[numeric_feats].apply(lambda x: skew(x.dropna())).sort_values(ascending=False)\n",
        "print(\"\\nSesgo en características numéricas: \\n\")\n",
        "skewness = pd.DataFrame({'Skew' :skewed_feats})\n",
        "skewness.head(10)"
      ],
      "execution_count": 56,
      "outputs": [
        {
          "output_type": "stream",
          "text": [
            "\n",
            "Sesgo en características numéricas: \n",
            "\n"
          ],
          "name": "stdout"
        },
        {
          "output_type": "execute_result",
          "data": {
            "text/html": [
              "<div>\n",
              "<style scoped>\n",
              "    .dataframe tbody tr th:only-of-type {\n",
              "        vertical-align: middle;\n",
              "    }\n",
              "\n",
              "    .dataframe tbody tr th {\n",
              "        vertical-align: top;\n",
              "    }\n",
              "\n",
              "    .dataframe thead th {\n",
              "        text-align: right;\n",
              "    }\n",
              "</style>\n",
              "<table border=\"1\" class=\"dataframe\">\n",
              "  <thead>\n",
              "    <tr style=\"text-align: right;\">\n",
              "      <th></th>\n",
              "      <th>Skew</th>\n",
              "    </tr>\n",
              "  </thead>\n",
              "  <tbody>\n",
              "    <tr>\n",
              "      <th>MiscVal</th>\n",
              "      <td>24.434913</td>\n",
              "    </tr>\n",
              "    <tr>\n",
              "      <th>PoolArea</th>\n",
              "      <td>15.932532</td>\n",
              "    </tr>\n",
              "    <tr>\n",
              "      <th>LotArea</th>\n",
              "      <td>12.560986</td>\n",
              "    </tr>\n",
              "    <tr>\n",
              "      <th>3SsnPorch</th>\n",
              "      <td>10.286510</td>\n",
              "    </tr>\n",
              "    <tr>\n",
              "      <th>LowQualFinSF</th>\n",
              "      <td>8.995688</td>\n",
              "    </tr>\n",
              "    <tr>\n",
              "      <th>KitchenAbvGr</th>\n",
              "      <td>4.480268</td>\n",
              "    </tr>\n",
              "    <tr>\n",
              "      <th>BsmtFinSF2</th>\n",
              "      <td>4.247550</td>\n",
              "    </tr>\n",
              "    <tr>\n",
              "      <th>ScreenPorch</th>\n",
              "      <td>4.114690</td>\n",
              "    </tr>\n",
              "    <tr>\n",
              "      <th>BsmtHalfBath</th>\n",
              "      <td>4.095895</td>\n",
              "    </tr>\n",
              "    <tr>\n",
              "      <th>EnclosedPorch</th>\n",
              "      <td>3.083987</td>\n",
              "    </tr>\n",
              "  </tbody>\n",
              "</table>\n",
              "</div>"
            ],
            "text/plain": [
              "                    Skew\n",
              "MiscVal        24.434913\n",
              "PoolArea       15.932532\n",
              "LotArea        12.560986\n",
              "3SsnPorch      10.286510\n",
              "LowQualFinSF    8.995688\n",
              "KitchenAbvGr    4.480268\n",
              "BsmtFinSF2      4.247550\n",
              "ScreenPorch     4.114690\n",
              "BsmtHalfBath    4.095895\n",
              "EnclosedPorch   3.083987"
            ]
          },
          "metadata": {
            "tags": []
          },
          "execution_count": 56
        }
      ]
    },
    {
      "cell_type": "markdown",
      "metadata": {
        "_cell_guid": "9f110087-b707-4073-a1df-0a0a9d6ccbd3",
        "_execution_state": "idle",
        "_uuid": "cf63bdc9f4f80d81f1bfa14f89d65ff104d45e5b",
        "id": "EfnjDGVPGdek",
        "colab_type": "text"
      },
      "source": [
        "**Transformación Box Cox**"
      ]
    },
    {
      "cell_type": "markdown",
      "metadata": {
        "_cell_guid": "d1d18243-42d8-4a21-808d-784c21e53973",
        "_execution_state": "idle",
        "_uuid": "eab0b4c0a85ae2fbe1bdeea0eedd113904ef3eb1",
        "id": "L268MnnJGdel",
        "colab_type": "text"
      },
      "source": [
        "Usamos la transformación BoxCox de la librería scipy"
      ]
    },
    {
      "cell_type": "code",
      "metadata": {
        "_cell_guid": "d8ebce87-c55d-46c6-8f06-8b34116d7370",
        "_execution_state": "idle",
        "_uuid": "969fdff338ef46f064d8f855782c96d322a264b1",
        "id": "hNCFdpVVGden",
        "colab_type": "code",
        "outputId": "f3927d75-04f8-40be-9297-d0638af9e3b3",
        "colab": {
          "base_uri": "https://localhost:8080/",
          "height": 34
        }
      },
      "source": [
        "skewness = skewness[abs(skewness) > 0.75]\n",
        "print(\"Hay {} características numéricas que se han transformado vía BoxCox\".format(skewness.shape[0]))\n",
        "\n",
        "from scipy.special import boxcox1p\n",
        "skewed_features = skewness.index\n",
        "lam = 0.15\n",
        "for feat in skewed_features:\n",
        "    train[feat] = boxcox1p(train[feat], lam)"
      ],
      "execution_count": 57,
      "outputs": [
        {
          "output_type": "stream",
          "text": [
            "Hay 35 características numéricas que se han transformado vía BoxCox\n"
          ],
          "name": "stdout"
        }
      ]
    },
    {
      "cell_type": "markdown",
      "metadata": {
        "_cell_guid": "39639caf-31a4-4401-a663-0ba9536b39bf",
        "_execution_state": "idle",
        "_uuid": "5a13a6e2a3e48975de9129d1593bd38df44a1069",
        "id": "BsRuL7uWGder",
        "colab_type": "text"
      },
      "source": [
        "**Generamos nuevas variables dummy**"
      ]
    },
    {
      "cell_type": "code",
      "metadata": {
        "_cell_guid": "c8e63516-e4e2-4f36-a60e-1c8316392c60",
        "_execution_state": "idle",
        "_uuid": "acd44e283867425257ffd1fb2f4893cdbff43f67",
        "id": "vKjErBmMGdes",
        "colab_type": "code",
        "outputId": "57cdba7c-6fb9-41bd-8552-9fee6f922d57",
        "colab": {
          "base_uri": "https://localhost:8080/",
          "height": 34
        }
      },
      "source": [
        "train=pd.get_dummies(train, prefix_sep='_', drop_first=True)\n",
        "print(train.shape)"
      ],
      "execution_count": 58,
      "outputs": [
        {
          "output_type": "stream",
          "text": [
            "(1458, 271)\n"
          ],
          "name": "stdout"
        }
      ]
    },
    {
      "cell_type": "code",
      "metadata": {
        "id": "Ywm4iQJDH2pf",
        "colab_type": "code",
        "outputId": "34da5e40-a3b1-458c-c120-35883fd4b2dd",
        "colab": {
          "base_uri": "https://localhost:8080/",
          "height": 246
        }
      },
      "source": [
        "train.head()"
      ],
      "execution_count": 59,
      "outputs": [
        {
          "output_type": "execute_result",
          "data": {
            "text/html": [
              "<div>\n",
              "<style scoped>\n",
              "    .dataframe tbody tr th:only-of-type {\n",
              "        vertical-align: middle;\n",
              "    }\n",
              "\n",
              "    .dataframe tbody tr th {\n",
              "        vertical-align: top;\n",
              "    }\n",
              "\n",
              "    .dataframe thead th {\n",
              "        text-align: right;\n",
              "    }\n",
              "</style>\n",
              "<table border=\"1\" class=\"dataframe\">\n",
              "  <thead>\n",
              "    <tr style=\"text-align: right;\">\n",
              "      <th></th>\n",
              "      <th>MSSubClass</th>\n",
              "      <th>LotFrontage</th>\n",
              "      <th>LotArea</th>\n",
              "      <th>OverallQual</th>\n",
              "      <th>OverallCond</th>\n",
              "      <th>YearBuilt</th>\n",
              "      <th>YearRemodAdd</th>\n",
              "      <th>MasVnrArea</th>\n",
              "      <th>BsmtFinSF1</th>\n",
              "      <th>BsmtFinSF2</th>\n",
              "      <th>BsmtUnfSF</th>\n",
              "      <th>TotalBsmtSF</th>\n",
              "      <th>1stFlrSF</th>\n",
              "      <th>2ndFlrSF</th>\n",
              "      <th>LowQualFinSF</th>\n",
              "      <th>GrLivArea</th>\n",
              "      <th>BsmtFullBath</th>\n",
              "      <th>BsmtHalfBath</th>\n",
              "      <th>FullBath</th>\n",
              "      <th>HalfBath</th>\n",
              "      <th>BedroomAbvGr</th>\n",
              "      <th>KitchenAbvGr</th>\n",
              "      <th>TotRmsAbvGrd</th>\n",
              "      <th>Fireplaces</th>\n",
              "      <th>GarageYrBlt</th>\n",
              "      <th>GarageCars</th>\n",
              "      <th>GarageArea</th>\n",
              "      <th>WoodDeckSF</th>\n",
              "      <th>OpenPorchSF</th>\n",
              "      <th>EnclosedPorch</th>\n",
              "      <th>3SsnPorch</th>\n",
              "      <th>ScreenPorch</th>\n",
              "      <th>PoolArea</th>\n",
              "      <th>MiscVal</th>\n",
              "      <th>TotalArea</th>\n",
              "      <th>MSZoning_FV</th>\n",
              "      <th>MSZoning_RH</th>\n",
              "      <th>MSZoning_RL</th>\n",
              "      <th>MSZoning_RM</th>\n",
              "      <th>Street_Pave</th>\n",
              "      <th>...</th>\n",
              "      <th>PavedDrive_Y</th>\n",
              "      <th>PoolQC_Fa</th>\n",
              "      <th>PoolQC_Gd</th>\n",
              "      <th>PoolQC_None</th>\n",
              "      <th>Fence_GdWo</th>\n",
              "      <th>Fence_MnPrv</th>\n",
              "      <th>Fence_MnWw</th>\n",
              "      <th>Fence_None</th>\n",
              "      <th>MiscFeature_None</th>\n",
              "      <th>MiscFeature_Othr</th>\n",
              "      <th>MiscFeature_Shed</th>\n",
              "      <th>MiscFeature_TenC</th>\n",
              "      <th>MoSold_10</th>\n",
              "      <th>MoSold_11</th>\n",
              "      <th>MoSold_12</th>\n",
              "      <th>MoSold_2</th>\n",
              "      <th>MoSold_3</th>\n",
              "      <th>MoSold_4</th>\n",
              "      <th>MoSold_5</th>\n",
              "      <th>MoSold_6</th>\n",
              "      <th>MoSold_7</th>\n",
              "      <th>MoSold_8</th>\n",
              "      <th>MoSold_9</th>\n",
              "      <th>YrSold_2007</th>\n",
              "      <th>YrSold_2008</th>\n",
              "      <th>YrSold_2009</th>\n",
              "      <th>YrSold_2010</th>\n",
              "      <th>SaleType_CWD</th>\n",
              "      <th>SaleType_Con</th>\n",
              "      <th>SaleType_ConLD</th>\n",
              "      <th>SaleType_ConLI</th>\n",
              "      <th>SaleType_ConLw</th>\n",
              "      <th>SaleType_New</th>\n",
              "      <th>SaleType_Oth</th>\n",
              "      <th>SaleType_WD</th>\n",
              "      <th>SaleCondition_AdjLand</th>\n",
              "      <th>SaleCondition_Alloca</th>\n",
              "      <th>SaleCondition_Family</th>\n",
              "      <th>SaleCondition_Normal</th>\n",
              "      <th>SaleCondition_Partial</th>\n",
              "    </tr>\n",
              "  </thead>\n",
              "  <tbody>\n",
              "    <tr>\n",
              "      <th>0</th>\n",
              "      <td>5.684507</td>\n",
              "      <td>5.831328</td>\n",
              "      <td>19.212182</td>\n",
              "      <td>2.440268</td>\n",
              "      <td>2.055642</td>\n",
              "      <td>14.187527</td>\n",
              "      <td>14.187527</td>\n",
              "      <td>8.059126</td>\n",
              "      <td>11.170327</td>\n",
              "      <td>0.0</td>\n",
              "      <td>7.483296</td>\n",
              "      <td>11.692623</td>\n",
              "      <td>11.692623</td>\n",
              "      <td>11.686189</td>\n",
              "      <td>0.0</td>\n",
              "      <td>13.698888</td>\n",
              "      <td>0.730463</td>\n",
              "      <td>0.000000</td>\n",
              "      <td>1.194318</td>\n",
              "      <td>0.730463</td>\n",
              "      <td>1.540963</td>\n",
              "      <td>0.730463</td>\n",
              "      <td>2.602594</td>\n",
              "      <td>0.000000</td>\n",
              "      <td>14.187527</td>\n",
              "      <td>1.194318</td>\n",
              "      <td>10.506271</td>\n",
              "      <td>0.000000</td>\n",
              "      <td>5.714669</td>\n",
              "      <td>0.000000</td>\n",
              "      <td>0.0</td>\n",
              "      <td>0.0</td>\n",
              "      <td>0.0</td>\n",
              "      <td>0.0</td>\n",
              "      <td>14.976591</td>\n",
              "      <td>0</td>\n",
              "      <td>0</td>\n",
              "      <td>1</td>\n",
              "      <td>0</td>\n",
              "      <td>1</td>\n",
              "      <td>...</td>\n",
              "      <td>1</td>\n",
              "      <td>0</td>\n",
              "      <td>0</td>\n",
              "      <td>1</td>\n",
              "      <td>0</td>\n",
              "      <td>0</td>\n",
              "      <td>0</td>\n",
              "      <td>1</td>\n",
              "      <td>1</td>\n",
              "      <td>0</td>\n",
              "      <td>0</td>\n",
              "      <td>0</td>\n",
              "      <td>0</td>\n",
              "      <td>0</td>\n",
              "      <td>0</td>\n",
              "      <td>1</td>\n",
              "      <td>0</td>\n",
              "      <td>0</td>\n",
              "      <td>0</td>\n",
              "      <td>0</td>\n",
              "      <td>0</td>\n",
              "      <td>0</td>\n",
              "      <td>0</td>\n",
              "      <td>0</td>\n",
              "      <td>1</td>\n",
              "      <td>0</td>\n",
              "      <td>0</td>\n",
              "      <td>0</td>\n",
              "      <td>0</td>\n",
              "      <td>0</td>\n",
              "      <td>0</td>\n",
              "      <td>0</td>\n",
              "      <td>0</td>\n",
              "      <td>0</td>\n",
              "      <td>1</td>\n",
              "      <td>0</td>\n",
              "      <td>0</td>\n",
              "      <td>0</td>\n",
              "      <td>1</td>\n",
              "      <td>0</td>\n",
              "    </tr>\n",
              "    <tr>\n",
              "      <th>1</th>\n",
              "      <td>3.858807</td>\n",
              "      <td>6.221214</td>\n",
              "      <td>19.712205</td>\n",
              "      <td>2.259674</td>\n",
              "      <td>2.602594</td>\n",
              "      <td>14.145138</td>\n",
              "      <td>14.145138</td>\n",
              "      <td>0.000000</td>\n",
              "      <td>12.062832</td>\n",
              "      <td>0.0</td>\n",
              "      <td>8.897844</td>\n",
              "      <td>12.792276</td>\n",
              "      <td>12.792276</td>\n",
              "      <td>0.000000</td>\n",
              "      <td>0.0</td>\n",
              "      <td>12.792276</td>\n",
              "      <td>0.000000</td>\n",
              "      <td>0.730463</td>\n",
              "      <td>1.194318</td>\n",
              "      <td>0.000000</td>\n",
              "      <td>1.540963</td>\n",
              "      <td>0.730463</td>\n",
              "      <td>2.259674</td>\n",
              "      <td>0.730463</td>\n",
              "      <td>14.145138</td>\n",
              "      <td>1.194318</td>\n",
              "      <td>10.062098</td>\n",
              "      <td>9.010206</td>\n",
              "      <td>0.000000</td>\n",
              "      <td>0.000000</td>\n",
              "      <td>0.0</td>\n",
              "      <td>0.0</td>\n",
              "      <td>0.0</td>\n",
              "      <td>0.0</td>\n",
              "      <td>14.923100</td>\n",
              "      <td>0</td>\n",
              "      <td>0</td>\n",
              "      <td>1</td>\n",
              "      <td>0</td>\n",
              "      <td>1</td>\n",
              "      <td>...</td>\n",
              "      <td>1</td>\n",
              "      <td>0</td>\n",
              "      <td>0</td>\n",
              "      <td>1</td>\n",
              "      <td>0</td>\n",
              "      <td>0</td>\n",
              "      <td>0</td>\n",
              "      <td>1</td>\n",
              "      <td>1</td>\n",
              "      <td>0</td>\n",
              "      <td>0</td>\n",
              "      <td>0</td>\n",
              "      <td>0</td>\n",
              "      <td>0</td>\n",
              "      <td>0</td>\n",
              "      <td>0</td>\n",
              "      <td>0</td>\n",
              "      <td>0</td>\n",
              "      <td>1</td>\n",
              "      <td>0</td>\n",
              "      <td>0</td>\n",
              "      <td>0</td>\n",
              "      <td>0</td>\n",
              "      <td>1</td>\n",
              "      <td>0</td>\n",
              "      <td>0</td>\n",
              "      <td>0</td>\n",
              "      <td>0</td>\n",
              "      <td>0</td>\n",
              "      <td>0</td>\n",
              "      <td>0</td>\n",
              "      <td>0</td>\n",
              "      <td>0</td>\n",
              "      <td>0</td>\n",
              "      <td>1</td>\n",
              "      <td>0</td>\n",
              "      <td>0</td>\n",
              "      <td>0</td>\n",
              "      <td>1</td>\n",
              "      <td>0</td>\n",
              "    </tr>\n",
              "    <tr>\n",
              "      <th>2</th>\n",
              "      <td>5.684507</td>\n",
              "      <td>5.914940</td>\n",
              "      <td>20.347241</td>\n",
              "      <td>2.440268</td>\n",
              "      <td>2.055642</td>\n",
              "      <td>14.184404</td>\n",
              "      <td>14.185966</td>\n",
              "      <td>7.646538</td>\n",
              "      <td>10.200343</td>\n",
              "      <td>0.0</td>\n",
              "      <td>9.917060</td>\n",
              "      <td>11.892039</td>\n",
              "      <td>11.892039</td>\n",
              "      <td>11.724598</td>\n",
              "      <td>0.0</td>\n",
              "      <td>13.832085</td>\n",
              "      <td>0.730463</td>\n",
              "      <td>0.000000</td>\n",
              "      <td>1.194318</td>\n",
              "      <td>0.730463</td>\n",
              "      <td>1.540963</td>\n",
              "      <td>0.730463</td>\n",
              "      <td>2.259674</td>\n",
              "      <td>0.730463</td>\n",
              "      <td>14.184404</td>\n",
              "      <td>1.194318</td>\n",
              "      <td>10.775536</td>\n",
              "      <td>0.000000</td>\n",
              "      <td>5.053371</td>\n",
              "      <td>0.000000</td>\n",
              "      <td>0.0</td>\n",
              "      <td>0.0</td>\n",
              "      <td>0.0</td>\n",
              "      <td>0.0</td>\n",
              "      <td>15.149678</td>\n",
              "      <td>0</td>\n",
              "      <td>0</td>\n",
              "      <td>1</td>\n",
              "      <td>0</td>\n",
              "      <td>1</td>\n",
              "      <td>...</td>\n",
              "      <td>1</td>\n",
              "      <td>0</td>\n",
              "      <td>0</td>\n",
              "      <td>1</td>\n",
              "      <td>0</td>\n",
              "      <td>0</td>\n",
              "      <td>0</td>\n",
              "      <td>1</td>\n",
              "      <td>1</td>\n",
              "      <td>0</td>\n",
              "      <td>0</td>\n",
              "      <td>0</td>\n",
              "      <td>0</td>\n",
              "      <td>0</td>\n",
              "      <td>0</td>\n",
              "      <td>0</td>\n",
              "      <td>0</td>\n",
              "      <td>0</td>\n",
              "      <td>0</td>\n",
              "      <td>0</td>\n",
              "      <td>0</td>\n",
              "      <td>0</td>\n",
              "      <td>1</td>\n",
              "      <td>0</td>\n",
              "      <td>1</td>\n",
              "      <td>0</td>\n",
              "      <td>0</td>\n",
              "      <td>0</td>\n",
              "      <td>0</td>\n",
              "      <td>0</td>\n",
              "      <td>0</td>\n",
              "      <td>0</td>\n",
              "      <td>0</td>\n",
              "      <td>0</td>\n",
              "      <td>1</td>\n",
              "      <td>0</td>\n",
              "      <td>0</td>\n",
              "      <td>0</td>\n",
              "      <td>1</td>\n",
              "      <td>0</td>\n",
              "    </tr>\n",
              "    <tr>\n",
              "      <th>3</th>\n",
              "      <td>5.968981</td>\n",
              "      <td>5.684507</td>\n",
              "      <td>19.691553</td>\n",
              "      <td>2.440268</td>\n",
              "      <td>2.055642</td>\n",
              "      <td>14.047529</td>\n",
              "      <td>14.135652</td>\n",
              "      <td>0.000000</td>\n",
              "      <td>8.274266</td>\n",
              "      <td>0.0</td>\n",
              "      <td>10.468500</td>\n",
              "      <td>11.354094</td>\n",
              "      <td>12.013683</td>\n",
              "      <td>11.354094</td>\n",
              "      <td>0.0</td>\n",
              "      <td>13.711364</td>\n",
              "      <td>0.730463</td>\n",
              "      <td>0.000000</td>\n",
              "      <td>0.730463</td>\n",
              "      <td>0.000000</td>\n",
              "      <td>1.540963</td>\n",
              "      <td>0.730463</td>\n",
              "      <td>2.440268</td>\n",
              "      <td>0.730463</td>\n",
              "      <td>14.179714</td>\n",
              "      <td>1.540963</td>\n",
              "      <td>10.918253</td>\n",
              "      <td>0.000000</td>\n",
              "      <td>4.745132</td>\n",
              "      <td>8.797736</td>\n",
              "      <td>0.0</td>\n",
              "      <td>0.0</td>\n",
              "      <td>0.0</td>\n",
              "      <td>0.0</td>\n",
              "      <td>14.857121</td>\n",
              "      <td>0</td>\n",
              "      <td>0</td>\n",
              "      <td>1</td>\n",
              "      <td>0</td>\n",
              "      <td>1</td>\n",
              "      <td>...</td>\n",
              "      <td>1</td>\n",
              "      <td>0</td>\n",
              "      <td>0</td>\n",
              "      <td>1</td>\n",
              "      <td>0</td>\n",
              "      <td>0</td>\n",
              "      <td>0</td>\n",
              "      <td>1</td>\n",
              "      <td>1</td>\n",
              "      <td>0</td>\n",
              "      <td>0</td>\n",
              "      <td>0</td>\n",
              "      <td>0</td>\n",
              "      <td>0</td>\n",
              "      <td>0</td>\n",
              "      <td>1</td>\n",
              "      <td>0</td>\n",
              "      <td>0</td>\n",
              "      <td>0</td>\n",
              "      <td>0</td>\n",
              "      <td>0</td>\n",
              "      <td>0</td>\n",
              "      <td>0</td>\n",
              "      <td>0</td>\n",
              "      <td>0</td>\n",
              "      <td>0</td>\n",
              "      <td>0</td>\n",
              "      <td>0</td>\n",
              "      <td>0</td>\n",
              "      <td>0</td>\n",
              "      <td>0</td>\n",
              "      <td>0</td>\n",
              "      <td>0</td>\n",
              "      <td>0</td>\n",
              "      <td>1</td>\n",
              "      <td>0</td>\n",
              "      <td>0</td>\n",
              "      <td>0</td>\n",
              "      <td>0</td>\n",
              "      <td>0</td>\n",
              "    </tr>\n",
              "    <tr>\n",
              "      <th>4</th>\n",
              "      <td>5.684507</td>\n",
              "      <td>6.314735</td>\n",
              "      <td>21.325160</td>\n",
              "      <td>2.602594</td>\n",
              "      <td>2.055642</td>\n",
              "      <td>14.182841</td>\n",
              "      <td>14.182841</td>\n",
              "      <td>9.391827</td>\n",
              "      <td>10.971129</td>\n",
              "      <td>0.0</td>\n",
              "      <td>10.221051</td>\n",
              "      <td>12.510588</td>\n",
              "      <td>12.510588</td>\n",
              "      <td>12.271365</td>\n",
              "      <td>0.0</td>\n",
              "      <td>14.480029</td>\n",
              "      <td>0.730463</td>\n",
              "      <td>0.000000</td>\n",
              "      <td>1.194318</td>\n",
              "      <td>0.730463</td>\n",
              "      <td>1.820334</td>\n",
              "      <td>0.730463</td>\n",
              "      <td>2.750250</td>\n",
              "      <td>0.730463</td>\n",
              "      <td>14.182841</td>\n",
              "      <td>1.540963</td>\n",
              "      <td>11.627708</td>\n",
              "      <td>8.013884</td>\n",
              "      <td>6.314735</td>\n",
              "      <td>0.000000</td>\n",
              "      <td>0.0</td>\n",
              "      <td>0.0</td>\n",
              "      <td>0.0</td>\n",
              "      <td>0.0</td>\n",
              "      <td>15.852312</td>\n",
              "      <td>0</td>\n",
              "      <td>0</td>\n",
              "      <td>1</td>\n",
              "      <td>0</td>\n",
              "      <td>1</td>\n",
              "      <td>...</td>\n",
              "      <td>1</td>\n",
              "      <td>0</td>\n",
              "      <td>0</td>\n",
              "      <td>1</td>\n",
              "      <td>0</td>\n",
              "      <td>0</td>\n",
              "      <td>0</td>\n",
              "      <td>1</td>\n",
              "      <td>1</td>\n",
              "      <td>0</td>\n",
              "      <td>0</td>\n",
              "      <td>0</td>\n",
              "      <td>0</td>\n",
              "      <td>0</td>\n",
              "      <td>1</td>\n",
              "      <td>0</td>\n",
              "      <td>0</td>\n",
              "      <td>0</td>\n",
              "      <td>0</td>\n",
              "      <td>0</td>\n",
              "      <td>0</td>\n",
              "      <td>0</td>\n",
              "      <td>0</td>\n",
              "      <td>0</td>\n",
              "      <td>1</td>\n",
              "      <td>0</td>\n",
              "      <td>0</td>\n",
              "      <td>0</td>\n",
              "      <td>0</td>\n",
              "      <td>0</td>\n",
              "      <td>0</td>\n",
              "      <td>0</td>\n",
              "      <td>0</td>\n",
              "      <td>0</td>\n",
              "      <td>1</td>\n",
              "      <td>0</td>\n",
              "      <td>0</td>\n",
              "      <td>0</td>\n",
              "      <td>1</td>\n",
              "      <td>0</td>\n",
              "    </tr>\n",
              "  </tbody>\n",
              "</table>\n",
              "<p>5 rows × 271 columns</p>\n",
              "</div>"
            ],
            "text/plain": [
              "   MSSubClass  LotFrontage  ...  SaleCondition_Normal  SaleCondition_Partial\n",
              "0    5.684507     5.831328  ...                     1                      0\n",
              "1    3.858807     6.221214  ...                     1                      0\n",
              "2    5.684507     5.914940  ...                     1                      0\n",
              "3    5.968981     5.684507  ...                     0                      0\n",
              "4    5.684507     6.314735  ...                     1                      0\n",
              "\n",
              "[5 rows x 271 columns]"
            ]
          },
          "metadata": {
            "tags": []
          },
          "execution_count": 59
        }
      ]
    },
    {
      "cell_type": "markdown",
      "metadata": {
        "_cell_guid": "461af83d-a928-4645-8512-5e4dbcaf7be0",
        "_execution_state": "idle",
        "_uuid": "10aab4cee97832560e2627a490e01e80c0ffb814",
        "id": "Kl1jncH5Gdew",
        "colab_type": "text"
      },
      "source": [
        "# Modelos"
      ]
    },
    {
      "cell_type": "markdown",
      "metadata": {
        "_cell_guid": "811925a6-341f-4cae-89c9-00983868a6b2",
        "_execution_state": "idle",
        "_uuid": "be4e4b315682b26359eba1ba3d65022aca9501e1",
        "id": "WteOSg0tGde5",
        "colab_type": "text"
      },
      "source": [
        "**Importamos librerías**"
      ]
    },
    {
      "cell_type": "code",
      "metadata": {
        "_cell_guid": "135e8ac5-ce46-4a5f-b205-13f827ef33b8",
        "_execution_state": "idle",
        "_uuid": "fc664fbe27561a3697d0210921107b0e14b7d211",
        "id": "gE8y7oVgGde7",
        "colab_type": "code",
        "colab": {}
      },
      "source": [
        "from sklearn.linear_model import ElasticNet, Lasso,  BayesianRidge, LassoLarsIC\n",
        "from sklearn.ensemble import RandomForestRegressor,  GradientBoostingRegressor\n",
        "from sklearn.kernel_ridge import KernelRidge\n",
        "from sklearn.pipeline import make_pipeline\n",
        "from sklearn.preprocessing import RobustScaler\n",
        "from sklearn.base import BaseEstimator, TransformerMixin, RegressorMixin, clone\n",
        "from sklearn.metrics import mean_squared_error"
      ],
      "execution_count": 0,
      "outputs": []
    },
    {
      "cell_type": "markdown",
      "metadata": {
        "_cell_guid": "42e1565e-77a1-41a7-ac31-893e405d34ad",
        "_execution_state": "busy",
        "_uuid": "643ae2c4a88576ebbd55824ce8e654486087a6e0",
        "id": "7mPiF4_HGdfC",
        "colab_type": "text"
      },
      "source": [
        "##Modelos Base"
      ]
    },
    {
      "cell_type": "markdown",
      "metadata": {
        "_cell_guid": "578f088d-1a84-41cb-b945-ec64800f2308",
        "_execution_state": "idle",
        "_uuid": "370125198a0cbbc9336cbf179f00a2ebb02cb063",
        "id": "6fdPUZuqGdfC",
        "colab_type": "text"
      },
      "source": [
        "-  **Regresión Lasso**  : \n",
        "\n",
        "Este modelo es muy sensible a outliers, por ello necesitamos hacer más robusto el modelo a través del parámetro **Robustscaler** dentro de un pipeline"
      ]
    },
    {
      "cell_type": "code",
      "metadata": {
        "_cell_guid": "03f45cb7-0a40-45ea-94e8-64fd7ff1e8f6",
        "_execution_state": "idle",
        "_uuid": "2a50c954cb771d350c3092c3658486ba4d22aba5",
        "id": "7oScyUEwGdfD",
        "colab_type": "code",
        "colab": {}
      },
      "source": [
        "lasso = make_pipeline(RobustScaler(), Lasso(alpha =0.0005, random_state=1))"
      ],
      "execution_count": 0,
      "outputs": []
    },
    {
      "cell_type": "markdown",
      "metadata": {
        "_cell_guid": "2c826f7b-ac66-421c-a7ae-29dfdd765bdb",
        "_execution_state": "idle",
        "_uuid": "30e9756cf63991715b48e8c53bc57906fc76f380",
        "id": "NszThWNmGdfF",
        "colab_type": "text"
      },
      "source": [
        "- **Regresión ElasticNet** :\n",
        "\n",
        "Nuevamente ingresamos el parámetro **Robustscaler** dentro del pipeline para hacer más robusto el modelo"
      ]
    },
    {
      "cell_type": "code",
      "metadata": {
        "_cell_guid": "e635cc7e-caeb-4f8b-ae78-c41f8eb0be59",
        "_execution_state": "idle",
        "_uuid": "b614cf1bdee86a3b1cbdde05298f9f7ae023799b",
        "id": "kI7Em8DkGdfG",
        "colab_type": "code",
        "colab": {}
      },
      "source": [
        "ENet = make_pipeline(RobustScaler(), ElasticNet(alpha=0.0005, l1_ratio=.9, random_state=1))"
      ],
      "execution_count": 0,
      "outputs": []
    },
    {
      "cell_type": "markdown",
      "metadata": {
        "_cell_guid": "7aae5316-4e32-4203-bff5-3b38c1f657c3",
        "_execution_state": "idle",
        "_uuid": "0775061bb477242f1332a048778e879ca540a216",
        "id": "L-JvyppgGdfO",
        "colab_type": "text"
      },
      "source": [
        "- **Regresión Kernel Ridge** :"
      ]
    },
    {
      "cell_type": "code",
      "metadata": {
        "_cell_guid": "805343d9-0af6-43a2-a351-c0b25c62fcf0",
        "_execution_state": "idle",
        "_uuid": "3199c83513d93407c818ce1ed43c6c52e7f5a8c6",
        "id": "CN8lj9KXGdfP",
        "colab_type": "code",
        "colab": {}
      },
      "source": [
        "KRR = KernelRidge(alpha=0.6, kernel='polynomial', degree=2, coef0=2.5)"
      ],
      "execution_count": 0,
      "outputs": []
    },
    {
      "cell_type": "markdown",
      "metadata": {
        "_cell_guid": "9e1eff6a-e937-45e4-96ef-41593e31e1bb",
        "_execution_state": "idle",
        "_uuid": "71bce529300e2f3d9f9f475d01bd7001258dbede",
        "id": "UfappmNsGdfd",
        "colab_type": "text"
      },
      "source": [
        "# Evaluación de los Modelos Base"
      ]
    },
    {
      "cell_type": "code",
      "metadata": {
        "_cell_guid": "2d0cc958-1654-425c-90ed-1ceb9edd7186",
        "_execution_state": "idle",
        "_uuid": "7d994349237b9304b0d17719e1af077e69288229",
        "id": "SnD9CpozGdfe",
        "colab_type": "code",
        "outputId": "786116eb-c481-48a9-c67a-49ab02fb6fc2",
        "colab": {
          "base_uri": "https://localhost:8080/",
          "height": 70
        }
      },
      "source": [
        "score = rmsle_cv(lasso)\n",
        "print(\"\\nLasso score: {:.4f} ({:.4f})\\n\".format(score.mean(), score.std()))"
      ],
      "execution_count": 66,
      "outputs": [
        {
          "output_type": "stream",
          "text": [
            "\n",
            "Lasso score: 0.1137 (0.0061)\n",
            "\n"
          ],
          "name": "stdout"
        }
      ]
    },
    {
      "cell_type": "code",
      "metadata": {
        "_cell_guid": "7cf6faaf-d69a-4268-b192-a9e60d207c28",
        "_execution_state": "idle",
        "_uuid": "b6d299b9d4a0cdb23ddd8459b3935da2948016d6",
        "id": "l83QBk0IGdfg",
        "colab_type": "code",
        "outputId": "c74313ff-d579-4ac8-cb27-811f7aad7458",
        "colab": {
          "base_uri": "https://localhost:8080/",
          "height": 52
        }
      },
      "source": [
        "score = rmsle_cv(ENet)\n",
        "print(\"ElasticNet score: {:.4f} ({:.4f})\\n\".format(score.mean(), score.std()))"
      ],
      "execution_count": 67,
      "outputs": [
        {
          "output_type": "stream",
          "text": [
            "ElasticNet score: 0.1137 (0.0062)\n",
            "\n"
          ],
          "name": "stdout"
        }
      ]
    },
    {
      "cell_type": "code",
      "metadata": {
        "_cell_guid": "a1195106-2170-47f2-86a7-c4f3be683aa8",
        "_execution_state": "idle",
        "_uuid": "437dc093e88d661a369539520af1b4c37d1a0c1a",
        "id": "YJF0RqVDGdfi",
        "colab_type": "code",
        "outputId": "5aa98d1a-ed4c-425d-d754-f1f2c12bc07f",
        "colab": {
          "base_uri": "https://localhost:8080/",
          "height": 52
        }
      },
      "source": [
        "score = rmsle_cv(KRR)\n",
        "print(\"Kernel Ridge score: {:.4f} ({:.4f})\\n\".format(score.mean(), score.std()))"
      ],
      "execution_count": 68,
      "outputs": [
        {
          "output_type": "stream",
          "text": [
            "Kernel Ridge score: 0.1156 (0.0056)\n",
            "\n"
          ],
          "name": "stdout"
        }
      ]
    }
  ]
}